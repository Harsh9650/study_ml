{
 "cells": [
  {
   "cell_type": "markdown",
   "metadata": {
    "id": "EB3UhbAgCHod"
   },
   "source": [
    "### This notebook is for tensorflow fundamentals."
   ]
  },
  {
   "cell_type": "code",
   "execution_count": 1,
   "metadata": {
    "colab": {
     "base_uri": "https://localhost:8080/"
    },
    "id": "Miz82nH1UrHe",
    "outputId": "4b9b984d-938e-4add-9a7c-a8a967c03bff"
   },
   "outputs": [
    {
     "name": "stdout",
     "output_type": "stream",
     "text": [
      "2.19.1\n"
     ]
    }
   ],
   "source": [
    "import numpy as np\n",
    "import tensorflow as tf\n",
    "import tensorflow_probability as tfp\n",
    "\n",
    "# Checking tensorflow version\n",
    "\n",
    "print(tf.__version__)"
   ]
  },
  {
   "cell_type": "code",
   "execution_count": 2,
   "metadata": {
    "colab": {
     "base_uri": "https://localhost:8080/"
    },
    "id": "KLNpqlU1VctF",
    "outputId": "b04b9891-6009-4219-a868-d7b4ffddfc92"
   },
   "outputs": [
    {
     "data": {
      "text/plain": [
       "<tf.Tensor: shape=(), dtype=int32, numpy=7>"
      ]
     },
     "execution_count": 2,
     "metadata": {},
     "output_type": "execute_result"
    }
   ],
   "source": [
    "# Creating tensors with tf.constant()\n",
    "\n",
    "scalar = tf.constant(7)\n",
    "scalar"
   ]
  },
  {
   "cell_type": "code",
   "execution_count": 3,
   "metadata": {
    "colab": {
     "base_uri": "https://localhost:8080/"
    },
    "id": "2nyS7IQ1VdZJ",
    "outputId": "07b84435-b5a8-4fb8-9763-49c8aff7034f"
   },
   "outputs": [
    {
     "data": {
      "text/plain": [
       "0"
      ]
     },
     "execution_count": 3,
     "metadata": {},
     "output_type": "execute_result"
    }
   ],
   "source": [
    "# checking the number of dimensions of a tensor.\n",
    "\n",
    "scalar.ndim\n",
    "\n",
    "# ndim stands for number of dimensions."
   ]
  },
  {
   "cell_type": "code",
   "execution_count": 4,
   "metadata": {
    "colab": {
     "base_uri": "https://localhost:8080/"
    },
    "id": "X4TI-k95VeQ2",
    "outputId": "b4f14f73-72f4-42c4-bce8-a6751852839d"
   },
   "outputs": [
    {
     "data": {
      "text/plain": [
       "<tf.Tensor: shape=(2,), dtype=int32, numpy=array([10, 10], dtype=int32)>"
      ]
     },
     "execution_count": 4,
     "metadata": {},
     "output_type": "execute_result"
    }
   ],
   "source": [
    "# creating a vector\n",
    "\n",
    "vector = tf.constant([10, 10])\n",
    "vector"
   ]
  },
  {
   "cell_type": "code",
   "execution_count": 5,
   "metadata": {
    "colab": {
     "base_uri": "https://localhost:8080/"
    },
    "id": "UmcJ85iRVejW",
    "outputId": "13ba9b5f-b5da-427c-c1b7-f0ad8f8f0f7f"
   },
   "outputs": [
    {
     "data": {
      "text/plain": [
       "1"
      ]
     },
     "execution_count": 5,
     "metadata": {},
     "output_type": "execute_result"
    }
   ],
   "source": [
    "# checking dimensions of our vector\n",
    "\n",
    "vector.ndim"
   ]
  },
  {
   "cell_type": "code",
   "execution_count": 6,
   "metadata": {
    "colab": {
     "base_uri": "https://localhost:8080/"
    },
    "id": "jihgyV7nVeyF",
    "outputId": "8e2a302d-07bf-442c-e5dc-7a5d9c1c2f8f"
   },
   "outputs": [
    {
     "data": {
      "text/plain": [
       "<tf.Tensor: shape=(2, 2), dtype=int32, numpy=\n",
       "array([[10,  7],\n",
       "       [ 7, 10]], dtype=int32)>"
      ]
     },
     "execution_count": 6,
     "metadata": {},
     "output_type": "execute_result"
    }
   ],
   "source": [
    "# creating a matrix (that has more than 1 dimension)\n",
    "\n",
    "matrix = tf.constant([[10,7], [7,10]])\n",
    "\n",
    "matrix\n",
    "\n",
    "# Note: by default tf.constant creates a tensor with dtype = int 32."
   ]
  },
  {
   "cell_type": "code",
   "execution_count": 7,
   "metadata": {
    "colab": {
     "base_uri": "https://localhost:8080/"
    },
    "id": "vdujMP0Qc9Ik",
    "outputId": "afa407d8-b201-4eb9-9de6-2201feda54db"
   },
   "outputs": [
    {
     "data": {
      "text/plain": [
       "2"
      ]
     },
     "execution_count": 7,
     "metadata": {},
     "output_type": "execute_result"
    }
   ],
   "source": [
    "# checking dimensions of our matrix\n",
    "\n",
    "matrix.ndim\n"
   ]
  },
  {
   "cell_type": "code",
   "execution_count": 8,
   "metadata": {
    "colab": {
     "base_uri": "https://localhost:8080/"
    },
    "id": "wUYc7QcFVe9e",
    "outputId": "50a42034-338c-4d2e-feb4-482ae863c5c7"
   },
   "outputs": [
    {
     "data": {
      "text/plain": [
       "<tf.Tensor: shape=(3, 2), dtype=float16, numpy=\n",
       "array([[10.,  7.],\n",
       "       [ 3.,  2.],\n",
       "       [ 8.,  9.]], dtype=float16)>"
      ]
     },
     "execution_count": 8,
     "metadata": {},
     "output_type": "execute_result"
    }
   ],
   "source": [
    "# creating another matrix and this time we'll specify the datatype for our tensor.\n",
    "\n",
    "\n",
    "matrix_2 = tf.constant([[10., 7.],\n",
    "                        [3., 2.],\n",
    "                        [8., 9.]], dtype = tf.float16)\n",
    "matrix_2\n",
    "\n",
    "\n",
    "# Shape = (3,2) specifies our tensor have 3 list with 2 values each."
   ]
  },
  {
   "cell_type": "code",
   "execution_count": 9,
   "metadata": {
    "colab": {
     "base_uri": "https://localhost:8080/"
    },
    "id": "7ylNXUT4VfIG",
    "outputId": "e77a750e-80ae-4088-f3d7-c2c7ba36005a"
   },
   "outputs": [
    {
     "data": {
      "text/plain": [
       "2"
      ]
     },
     "execution_count": 9,
     "metadata": {},
     "output_type": "execute_result"
    }
   ],
   "source": [
    "# checking dimensions of our matrix_2\n",
    "\n",
    "matrix_2.ndim"
   ]
  },
  {
   "cell_type": "code",
   "execution_count": 10,
   "metadata": {
    "colab": {
     "base_uri": "https://localhost:8080/"
    },
    "id": "BQ-skEK-UsRt",
    "outputId": "7a98b8f0-8a6f-45ab-a7fa-f37c7b010734"
   },
   "outputs": [
    {
     "data": {
      "text/plain": [
       "<tf.Tensor: shape=(3, 2, 3), dtype=int32, numpy=\n",
       "array([[[ 1,  2,  3],\n",
       "        [ 4,  5,  6]],\n",
       "\n",
       "       [[ 7,  8,  9],\n",
       "        [10, 11, 12]],\n",
       "\n",
       "       [[13, 14, 15],\n",
       "        [16, 17, 18]]], dtype=int32)>"
      ]
     },
     "execution_count": 10,
     "metadata": {},
     "output_type": "execute_result"
    }
   ],
   "source": [
    "# creating a tensor\n",
    "\n",
    "tensor = tf.constant([[[1,2,3],[4,5,6]], [[7,8,9],[10,11,12]], [[13,14,15],[16,17,18]]])\n",
    "tensor"
   ]
  },
  {
   "cell_type": "code",
   "execution_count": 11,
   "metadata": {
    "colab": {
     "base_uri": "https://localhost:8080/"
    },
    "id": "NHeKTXwaen6l",
    "outputId": "6c2fdb8b-6083-4f38-f980-068306291dcb"
   },
   "outputs": [
    {
     "data": {
      "text/plain": [
       "3"
      ]
     },
     "execution_count": 11,
     "metadata": {},
     "output_type": "execute_result"
    }
   ],
   "source": [
    "# checking dimensions of our tensor\n",
    "\n",
    "tensor.ndim"
   ]
  },
  {
   "cell_type": "markdown",
   "metadata": {
    "id": "Al-fEnBbeoSl"
   },
   "source": [
    "## **Basics**\n",
    "\n",
    "---\n",
    "\n",
    "### 1. Matrix (singular)\n",
    "A **matrix** is a single 2D array of numbers, arranged in rows and columns.  \n",
    "\n",
    "Example:  \n",
    "\n",
    "$A = \\begin{bmatrix} \n",
    "1 & 2 \\\\ \n",
    "3 & 4 \n",
    "\\end{bmatrix}\n",
    "$\n",
    "\n",
    "### 2. Matrices (plural)\n",
    "**Matrices** is simply the plural of **matrix**, meaning more than one.  \n",
    "\n",
    "Example:  \n",
    "\n",
    "$\n",
    "A = \\begin{bmatrix} \n",
    "1 & 2 \\\\ \n",
    "3 & 4 \n",
    "\\end{bmatrix}, \\quad\n",
    "B = \\begin{bmatrix} \n",
    "5 & 6 \\\\ \n",
    "7 & 8 \n",
    "\\end{bmatrix}\n",
    "$\n",
    "\n",
    "Here, A and B together are **matrices**.\n",
    "\n",
    "\n",
    "#### ✅ **Key Point**:  \n",
    "- **Matrix** → one object.  \n",
    "- **Matrices** → multiple objects.\n",
    "\n",
    "---\n",
    "\n",
    "### 3. Tensors \n",
    "\n",
    "A **matrix** is a special case of a **tensor**.\n",
    "\n",
    "### Tensors by Rank\n",
    "- **Scalar (just a number)** → Tensor of **rank 0** (No list).\n",
    "- **Vector (1D array)** → Tensor of **rank 1** (A single list of elements).\n",
    "- **Matrix (2D array)** → Tensor of **rank 2** (A list of two lists, with each inner list containing two elements.)\n",
    "- **Higher-order Tensor (3D, 4D, ... N-D arrays)** → Tensor of **rank N**\n",
    "\n",
    "### Key Idea\n",
    "- Every **matrix is a tensor** (specifically, rank 2).\n",
    "- But not every **tensor is a matrix** (since tensors can extend to more than 2 dimensions).\n",
    "\n",
    "### Example\n",
    "- Scalar: `5` → shape `()`\n",
    "- Vector: `[1, 2, 3]` → shape `(3,)`\n",
    "- Matrix: `[[1, 2],\n",
    "          [3, 4]]`\n",
    "\n",
    "### Are Matrices and Tensors the Same?\n",
    "\n",
    " - **No**\n",
    "\n",
    "---\n",
    "\n",
    "### Important Tensorflow functions\n",
    "\n",
    "  - `tf.constant()` → creates a TensorFlow constant, which can represent a **scalar**, **vector**, **matrix**, or higher-order **tensor**, depending on the input.\n",
    "  - `tf.ndim()` → returns the **rank** (number of dimensions) of the tensor.\n",
    "  - `tf.shape()` → returns the **shape** (size along each dimension) of the tensor.\n",
    "\n",
    "--- \n",
    "\n",
    "### Interpretation\n",
    "> Shape of a scalar value is an empty list []\n",
    ">\n",
    "> Shape of a vector is given as [a], where \"a\" represents the number of elements in the list.\n",
    ">\n",
    "> Shape of a 2 dimensionsional matrix is given as [a, b], where \"a\" represents the number of lists inside the first list and \"b\" represents the number of elements inside each inner list.\n",
    ">\n",
    "> Shape of a tensor with dimension as 3 is given as [a, b, c], where \"a\" represents the number of lists inside the first list, \"b\" represents the number of lists inside each list that is present inside the first list and \"c\" represents the number of elements inside each list that is present inside a list which itself is inside the first list."
   ]
  },
  {
   "cell_type": "code",
   "execution_count": 12,
   "metadata": {},
   "outputs": [
    {
     "data": {
      "text/plain": [
       "(TensorShape([]),\n",
       " TensorShape([2]),\n",
       " TensorShape([2, 2]),\n",
       " TensorShape([3, 2, 3]))"
      ]
     },
     "execution_count": 12,
     "metadata": {},
     "output_type": "execute_result"
    }
   ],
   "source": [
    "scalar.shape, vector.shape, matrix.shape, tensor.shape"
   ]
  },
  {
   "cell_type": "code",
   "execution_count": 13,
   "metadata": {
    "colab": {
     "base_uri": "https://localhost:8080/"
    },
    "id": "7gqeXnU3e6Fa",
    "outputId": "162e929c-5bc9-48f6-8a50-69a03a38ef0d"
   },
   "outputs": [
    {
     "data": {
      "text/plain": [
       "(<tf.Tensor: shape=(2,), dtype=int32, numpy=array([10,  7], dtype=int32)>,\n",
       " <tf.Variable 'Variable:0' shape=(2,) dtype=int32, numpy=array([10,  7], dtype=int32)>)"
      ]
     },
     "execution_count": 13,
     "metadata": {},
     "output_type": "execute_result"
    }
   ],
   "source": [
    "# Creating tensor with tf.Variable\n",
    "\n",
    "changeable_tensor = tf.Variable([10, 7])\n",
    "unchangeable_tensor = tf.constant([10, 7])\n",
    "unchangeable_tensor, changeable_tensor"
   ]
  },
  {
   "cell_type": "markdown",
   "metadata": {},
   "source": [
    "### Note: `tf.Variable` create tensors that are changeable while with `tf.constant` create tensors that are unchangable.\n",
    "\n",
    "- To change the elements in our tensor we can't use assignment operator, Eg: `changeable_tensor[0] = 7` and this will throw an error. So to change elements in our tensor we use `.assign()`.\n",
    "  \n",
    "- **Note:** We can't change the element of a tensor created by `tf.constant` by using `unchangeable_tensor[0].assign(7)` because it'll throw an error."
   ]
  },
  {
   "cell_type": "code",
   "execution_count": 14,
   "metadata": {
    "colab": {
     "base_uri": "https://localhost:8080/"
    },
    "id": "1W5FddNAeore",
    "outputId": "71d473e1-20f5-4b42-df03-5d0d50a72f95"
   },
   "outputs": [
    {
     "data": {
      "text/plain": [
       "<tf.Variable 'Variable:0' shape=(2,) dtype=int32, numpy=array([7, 7], dtype=int32)>"
      ]
     },
     "execution_count": 14,
     "metadata": {},
     "output_type": "execute_result"
    }
   ],
   "source": [
    "changeable_tensor[0].assign(7)\n",
    "changeable_tensor"
   ]
  },
  {
   "cell_type": "markdown",
   "metadata": {
    "id": "LkHJEXA6eo5N"
   },
   "source": [
    "### Creating random tensor (random tensors are tensors of some arbitrary size which contain random numbers)\n",
    "\n",
    "## **Note:**\n",
    "> `tf.random.Generator` creates a random tensor of arbitrary size.\n",
    ">\n",
    ">  `tf.normal()` fills the tensor with random values having a normal distribution."
   ]
  },
  {
   "cell_type": "code",
   "execution_count": 15,
   "metadata": {
    "colab": {
     "base_uri": "https://localhost:8080/"
    },
    "id": "x4PDke-3epLj",
    "outputId": "c0b81535-dc8f-469f-c05c-b8ab00c8a865"
   },
   "outputs": [
    {
     "data": {
      "text/plain": [
       "(<tf.Tensor: shape=(3, 2), dtype=float32, numpy=\n",
       " array([[-0.7565803 , -0.06854702],\n",
       "        [ 0.07595026, -1.2573844 ],\n",
       "        [-0.23193763, -1.8107855 ]], dtype=float32)>,\n",
       " <tf.Tensor: shape=(3, 2), dtype=float32, numpy=\n",
       " array([[-0.7565803 , -0.06854702],\n",
       "        [ 0.07595026, -1.2573844 ],\n",
       "        [-0.23193763, -1.8107855 ]], dtype=float32)>,\n",
       " <tf.Tensor: shape=(3, 2), dtype=bool, numpy=\n",
       " array([[ True,  True],\n",
       "        [ True,  True],\n",
       "        [ True,  True]])>)"
      ]
     },
     "execution_count": 15,
     "metadata": {},
     "output_type": "execute_result"
    }
   ],
   "source": [
    "# Creating two random (but the same) tensors\n",
    "\n",
    "random_1 = tf.random.Generator.from_seed(42) # This is to get same results everytime we run our code.\n",
    "random_1 = random_1.normal(shape = (3,2))\n",
    "\n",
    "random_2 = tf.random.Generator.from_seed(42) # This is to get same results everytime we run our code.\n",
    "random_2 = random_2.normal(shape = (3,2))\n",
    "\n",
    "random_1, random_2, random_1 == random_2"
   ]
  },
  {
   "cell_type": "markdown",
   "metadata": {
    "id": "I6lYLWAtepes"
   },
   "source": [
    "### **Shuffle the order of elements in the Tensor**\n",
    "\n",
    "- We shuffle the order of elements in the tensor, so that the performance of our model doesn't get affected by the order of inputs.\n",
    "- **Example: Suppose we have a total of 15000 images for a classification problem. The first 10000 images are of class 1 while the other half is of class 2. So, if we don't shuffle our images, the input to our model for the early part will be biased towards class 1 and we want to nullify that and hence we use shuffling.** "
   ]
  },
  {
   "cell_type": "code",
   "execution_count": 16,
   "metadata": {
    "colab": {
     "base_uri": "https://localhost:8080/"
    },
    "id": "LXdfCpQWk8fe",
    "outputId": "aa1d692c-68fc-4a36-88c3-5f6086a2fc58"
   },
   "outputs": [
    {
     "data": {
      "text/plain": [
       "<tf.Tensor: shape=(3, 2, 2), dtype=int32, numpy=\n",
       "array([[[10,  4],\n",
       "        [ 7,  5]],\n",
       "\n",
       "       [[ 3,  6],\n",
       "        [ 4,  8]],\n",
       "\n",
       "       [[ 2,  4],\n",
       "        [ 5, 10]]], dtype=int32)>"
      ]
     },
     "execution_count": 16,
     "metadata": {},
     "output_type": "execute_result"
    }
   ],
   "source": [
    "tensor_to_shuffle = tf.constant([[[10, 4], [7, 5]], [[3, 6], [4, 8]], [[2, 4], [5, 10]]])\n",
    "tensor_to_shuffle"
   ]
  },
  {
   "cell_type": "code",
   "execution_count": 17,
   "metadata": {
    "colab": {
     "base_uri": "https://localhost:8080/"
    },
    "id": "tn8Grg1LMsvQ",
    "outputId": "b2484879-4987-45b7-ac83-1594b75e5065"
   },
   "outputs": [
    {
     "data": {
      "text/plain": [
       "3"
      ]
     },
     "execution_count": 17,
     "metadata": {},
     "output_type": "execute_result"
    }
   ],
   "source": [
    "tensor_to_shuffle.ndim\n",
    "\n",
    "# Dimensions are not concerned with th elements inside the list.\n",
    "# Dimension: 1 = [], Dimension: 2 = [[]], Dimension: 3 = [[[]]]"
   ]
  },
  {
   "cell_type": "code",
   "execution_count": 18,
   "metadata": {},
   "outputs": [
    {
     "data": {
      "text/plain": [
       "TensorShape([3, 2, 2])"
      ]
     },
     "execution_count": 18,
     "metadata": {},
     "output_type": "execute_result"
    }
   ],
   "source": [
    "tensor_to_shuffle.shape"
   ]
  },
  {
   "cell_type": "markdown",
   "metadata": {},
   "source": [
    "- The shape `[3, 2, 2]` describes a **3D tensor**.\n",
    "- Breakdown:\n",
    "  - `3` → There are **3 blocks** (outer lists).\n",
    "  - `2` → Each block contains **2 rows** (inner lists).\n",
    "  - `2` → Each row contains **2 elements**.\n",
    "\n",
    "$[$\n",
    "\n",
    "$[[10,  4], [ 7,  5]],$\n",
    "\n",
    "$[[ 3,  6], [ 4,  8]],$\n",
    "\n",
    "$[[ 2,  4], [ 5, 10]]$\n",
    "\n",
    "$]$"
   ]
  },
  {
   "cell_type": "markdown",
   "metadata": {},
   "source": [
    "### Note: `tf.random.shuffle` shuffles the tensor along it's first dimensions."
   ]
  },
  {
   "cell_type": "code",
   "execution_count": 19,
   "metadata": {
    "colab": {
     "base_uri": "https://localhost:8080/"
    },
    "id": "Z7L44Ptok8tY",
    "outputId": "7b5ff44a-9c3c-4497-b4fb-8dd7f50227fd"
   },
   "outputs": [
    {
     "data": {
      "text/plain": [
       "<tf.Tensor: shape=(3, 2, 2), dtype=int32, numpy=\n",
       "array([[[ 3,  6],\n",
       "        [ 4,  8]],\n",
       "\n",
       "       [[10,  4],\n",
       "        [ 7,  5]],\n",
       "\n",
       "       [[ 2,  4],\n",
       "        [ 5, 10]]], dtype=int32)>"
      ]
     },
     "execution_count": 19,
     "metadata": {},
     "output_type": "execute_result"
    }
   ],
   "source": [
    "tf.random.shuffle(tensor_to_shuffle)"
   ]
  },
  {
   "cell_type": "markdown",
   "metadata": {
    "id": "QEmBHZ3hk9P5"
   },
   "source": [
    "### Why Use Operation-Level Seeds in TensorFlow?\n",
    "\n",
    "TensorFlow supports **two levels of seeding** for random operations:\n",
    "\n",
    "1. **Global seed** → Sets the overall randomness for the program.\n",
    "2. **Operation-level seed** → Sets randomness for a specific operation (e.g., `tf.random.uniform`, `tf.random.normal`).\n",
    "\n",
    "---\n",
    "\n",
    "#### Why operation-level seed alone is not deterministic\n",
    "- If you set **only the op-level seed**, TensorFlow still mixes it with the global random state.  \n",
    "- This means results may differ between runs, even if the same op-level seed is used.\n",
    "\n",
    "---\n",
    "\n",
    "#### Why it is useful\n",
    "- ✅ **Reproducibility (with global seed):**  \n",
    "  When **both global seed and op-level seed** are set, the operation produces the same result every run.  \n",
    "- ✅ **Independent control:**  \n",
    "  Different operations can be assigned different seeds so they don’t produce identical random sequences.  \n",
    "- ✅ **Debugging / Experiment tracking:**  \n",
    "  Lets you control randomness for a specific operation without affecting others.\n",
    "\n",
    "---\n",
    "\n",
    "**Key Point:**  \n",
    "- *Op-level seed alone ≠ deterministic*  \n",
    "- *Global seed + op-level seed = reproducible results*\n"
   ]
  },
  {
   "cell_type": "code",
   "execution_count": 20,
   "metadata": {
    "colab": {
     "base_uri": "https://localhost:8080/"
    },
    "id": "GchRb3CeIdEc",
    "outputId": "2477d0da-81ad-42b8-b874-5fad4fc79c3e"
   },
   "outputs": [
    {
     "name": "stdout",
     "output_type": "stream",
     "text": [
      "tf.Tensor([0.5380393], shape=(1,), dtype=float32)\n",
      "tf.Tensor([0.3253647], shape=(1,), dtype=float32)\n"
     ]
    }
   ],
   "source": [
    "# Global level seed\n",
    "tf.random.set_seed(1234)\n",
    "\n",
    "print(tf.random.uniform([1]))  # generates 0.5380393\n",
    "print(tf.random.uniform([1]))  # generates 0.3253647\n",
    "\n",
    "# re-run the code to check change."
   ]
  },
  {
   "cell_type": "code",
   "execution_count": 21,
   "metadata": {
    "colab": {
     "base_uri": "https://localhost:8080/"
    },
    "id": "1zZ7xLqmIdwP",
    "outputId": "f49fc377-a77e-4153-a2b7-83befaa081b1"
   },
   "outputs": [
    {
     "name": "stdout",
     "output_type": "stream",
     "text": [
      "tf.Tensor([0.46764243], shape=(1,), dtype=float32)\n",
      "tf.Tensor([0.15858293], shape=(1,), dtype=float32)\n"
     ]
    }
   ],
   "source": [
    "# operations level seed\n",
    "print(tf.random.uniform([1], seed = 4321))  \n",
    "print(tf.random.uniform([1], seed = 4321)) \n",
    "\n",
    "# re-run the code to check change."
   ]
  },
  {
   "cell_type": "code",
   "execution_count": 22,
   "metadata": {
    "colab": {
     "base_uri": "https://localhost:8080/"
    },
    "id": "6eu2vT2FId6z",
    "outputId": "0fc460c4-57a5-420b-b740-a74cba94dabc"
   },
   "outputs": [
    {
     "name": "stdout",
     "output_type": "stream",
     "text": [
      "tf.Tensor([0.46764243], shape=(1,), dtype=float32)\n",
      "tf.Tensor([0.15858293], shape=(1,), dtype=float32)\n"
     ]
    }
   ],
   "source": [
    "# Global level seed and operations level seed\n",
    "\n",
    "tf.random.set_seed(1234)\n",
    "\n",
    "print(tf.random.uniform([1], seed = 4321)) # 0.46764243\n",
    "print(tf.random.uniform([1], seed = 4321)) # 0.15858293 \n",
    "\n",
    "# re-run the code to check change."
   ]
  },
  {
   "cell_type": "markdown",
   "metadata": {},
   "source": [
    "## Creating a tensor of all zeroes and ones."
   ]
  },
  {
   "cell_type": "code",
   "execution_count": 23,
   "metadata": {
    "colab": {
     "base_uri": "https://localhost:8080/"
    },
    "id": "-Q5BkhL-k9aE",
    "outputId": "863049e4-985e-46bb-93f2-997df79b84be"
   },
   "outputs": [
    {
     "data": {
      "text/plain": [
       "<tf.Tensor: shape=(3, 4), dtype=float32, numpy=\n",
       "array([[0., 0., 0., 0.],\n",
       "       [0., 0., 0., 0.],\n",
       "       [0., 0., 0., 0.]], dtype=float32)>"
      ]
     },
     "execution_count": 23,
     "metadata": {},
     "output_type": "execute_result"
    }
   ],
   "source": [
    "tf.zeros(shape = (3, 4)) # all zeroes"
   ]
  },
  {
   "cell_type": "code",
   "execution_count": 24,
   "metadata": {
    "colab": {
     "base_uri": "https://localhost:8080/"
    },
    "id": "05KElY2mk9yu",
    "outputId": "82d403f4-7082-410c-8d21-9907c029dd8d"
   },
   "outputs": [
    {
     "data": {
      "text/plain": [
       "<tf.Tensor: shape=(3, 4), dtype=float32, numpy=\n",
       "array([[1., 1., 1., 1.],\n",
       "       [1., 1., 1., 1.],\n",
       "       [1., 1., 1., 1.]], dtype=float32)>"
      ]
     },
     "execution_count": 24,
     "metadata": {},
     "output_type": "execute_result"
    }
   ],
   "source": [
    "tf.ones(shape = (3,4)) # all ones"
   ]
  },
  {
   "cell_type": "markdown",
   "metadata": {
    "id": "SOFcPnsFk9_E"
   },
   "source": [
    "## Note: We can also turn numpy arrays into tensors.\n",
    "\n",
    "- The main difference between Numpy arrays and tensors in tensorflow is that tensors can be run on a GPU for faster numerical computation."
   ]
  },
  {
   "cell_type": "code",
   "execution_count": 25,
   "metadata": {
    "colab": {
     "base_uri": "https://localhost:8080/"
    },
    "id": "s8ZxmU1Vk-JA",
    "outputId": "ac27852e-39ee-407a-d131-09716823e534"
   },
   "outputs": [
    {
     "data": {
      "text/plain": [
       "array([ 1,  2,  3,  4,  5,  6,  7,  8,  9, 10, 11, 12, 13, 14, 15, 16, 17,\n",
       "       18, 19, 20, 21, 22, 23, 24], dtype=int32)"
      ]
     },
     "execution_count": 25,
     "metadata": {},
     "output_type": "execute_result"
    }
   ],
   "source": [
    "array = np.arange(1,25, dtype = np.int32) # creating a numpy array between 1 and 25.\n",
    "array # An array is an indexed collection of elements of the same data type, arranged in one or more dimensions."
   ]
  },
  {
   "cell_type": "code",
   "execution_count": 26,
   "metadata": {
    "colab": {
     "base_uri": "https://localhost:8080/"
    },
    "id": "cUsZ0M3sPqEI",
    "outputId": "e94ae2f4-fc56-424d-bd27-154be2eeb6b1"
   },
   "outputs": [
    {
     "data": {
      "text/plain": [
       "<tf.Tensor: shape=(24,), dtype=int32, numpy=\n",
       "array([ 1,  2,  3,  4,  5,  6,  7,  8,  9, 10, 11, 12, 13, 14, 15, 16, 17,\n",
       "       18, 19, 20, 21, 22, 23, 24], dtype=int32)>"
      ]
     },
     "execution_count": 26,
     "metadata": {},
     "output_type": "execute_result"
    }
   ],
   "source": [
    "tensor = tf.constant(array)\n",
    "tensor # tensor from a numpy array."
   ]
  },
  {
   "cell_type": "code",
   "execution_count": 27,
   "metadata": {
    "colab": {
     "base_uri": "https://localhost:8080/"
    },
    "id": "scP1NRGmPqWQ",
    "outputId": "d750d5bd-da8c-4c22-93cd-65dc08242a76"
   },
   "outputs": [
    {
     "data": {
      "text/plain": [
       "<tf.Tensor: shape=(2, 3, 4), dtype=int32, numpy=\n",
       "array([[[ 1,  2,  3,  4],\n",
       "        [ 5,  6,  7,  8],\n",
       "        [ 9, 10, 11, 12]],\n",
       "\n",
       "       [[13, 14, 15, 16],\n",
       "        [17, 18, 19, 20],\n",
       "        [21, 22, 23, 24]]], dtype=int32)>"
      ]
     },
     "execution_count": 27,
     "metadata": {},
     "output_type": "execute_result"
    }
   ],
   "source": [
    "# We can also change the shape of the tensor as,\n",
    "\n",
    "tensor_1 = tf.constant(array, shape = (2,3,4))\n",
    "tensor_1"
   ]
  },
  {
   "cell_type": "markdown",
   "metadata": {},
   "source": [
    "### **Note:** We use shape = (2,3,4) because 2*3*4 = 24 and the original numpy array had 24 elements. So, we can choose a shape from only the factors of 24.\n",
    "---\n",
    "\n",
    "### Getting information from tensors or the information that is important related to tensors.\n",
    "\n",
    "- Shape\n",
    "- Rank\n",
    "- Axis or dimension\n",
    "- Size"
   ]
  },
  {
   "cell_type": "code",
   "execution_count": 28,
   "metadata": {
    "colab": {
     "base_uri": "https://localhost:8080/"
    },
    "id": "eeOj_1cnPrW6",
    "outputId": "d21ebd61-6594-4e48-bf8b-faabb4e981cd",
    "scrolled": true
   },
   "outputs": [
    {
     "data": {
      "text/plain": [
       "<tf.Tensor: shape=(2, 3, 4, 5), dtype=float32, numpy=\n",
       "array([[[[0., 0., 0., 0., 0.],\n",
       "         [0., 0., 0., 0., 0.],\n",
       "         [0., 0., 0., 0., 0.],\n",
       "         [0., 0., 0., 0., 0.]],\n",
       "\n",
       "        [[0., 0., 0., 0., 0.],\n",
       "         [0., 0., 0., 0., 0.],\n",
       "         [0., 0., 0., 0., 0.],\n",
       "         [0., 0., 0., 0., 0.]],\n",
       "\n",
       "        [[0., 0., 0., 0., 0.],\n",
       "         [0., 0., 0., 0., 0.],\n",
       "         [0., 0., 0., 0., 0.],\n",
       "         [0., 0., 0., 0., 0.]]],\n",
       "\n",
       "\n",
       "       [[[0., 0., 0., 0., 0.],\n",
       "         [0., 0., 0., 0., 0.],\n",
       "         [0., 0., 0., 0., 0.],\n",
       "         [0., 0., 0., 0., 0.]],\n",
       "\n",
       "        [[0., 0., 0., 0., 0.],\n",
       "         [0., 0., 0., 0., 0.],\n",
       "         [0., 0., 0., 0., 0.],\n",
       "         [0., 0., 0., 0., 0.]],\n",
       "\n",
       "        [[0., 0., 0., 0., 0.],\n",
       "         [0., 0., 0., 0., 0.],\n",
       "         [0., 0., 0., 0., 0.],\n",
       "         [0., 0., 0., 0., 0.]]]], dtype=float32)>"
      ]
     },
     "execution_count": 28,
     "metadata": {},
     "output_type": "execute_result"
    }
   ],
   "source": [
    "# Creating a rank 4 tensor\n",
    "\n",
    "tensor_rank_4 = tf.zeros(shape= (2, 3, 4, 5))\n",
    "\n",
    "tensor_rank_4"
   ]
  },
  {
   "cell_type": "code",
   "execution_count": 29,
   "metadata": {
    "colab": {
     "base_uri": "https://localhost:8080/"
    },
    "id": "JoeozJ2LaoWr",
    "outputId": "08512d78-d3de-472c-8276-cc5ca0a50d21"
   },
   "outputs": [
    {
     "data": {
      "text/plain": [
       "(tf.float32,\n",
       " TensorShape([2, 3, 4, 5]),\n",
       " 4,\n",
       " <tf.Tensor: shape=(), dtype=int32, numpy=120>)"
      ]
     },
     "execution_count": 29,
     "metadata": {},
     "output_type": "execute_result"
    }
   ],
   "source": [
    "tensor_rank_4.dtype, tensor_rank_4.shape, tensor_rank_4.ndim, tf.size(tensor_rank_4)\n",
    "\n",
    "# ndim gives number of dimensions or rank."
   ]
  },
  {
   "cell_type": "markdown",
   "metadata": {},
   "source": [
    "### `tf.size()` is used to get the total number of elements inside the tensor. However, the output it produces contains extra information as shown in the previous cell. So, if we want to get just the number of elements we can use `tf.size().numpy()`"
   ]
  },
  {
   "cell_type": "code",
   "execution_count": 30,
   "metadata": {
    "colab": {
     "base_uri": "https://localhost:8080/"
    },
    "id": "h9-aI5Vuaomm",
    "outputId": "8ad19784-898c-413b-c839-a62818f39375"
   },
   "outputs": [
    {
     "data": {
      "text/plain": [
       "np.int32(120)"
      ]
     },
     "execution_count": 30,
     "metadata": {},
     "output_type": "execute_result"
    }
   ],
   "source": [
    "tf.size(tensor_rank_4).numpy()"
   ]
  },
  {
   "cell_type": "markdown",
   "metadata": {
    "id": "lIilfJ4IapQD"
   },
   "source": [
    "## Indexing Tensors\n",
    "\n",
    "- Tensors can be indexed just like Python lists."
   ]
  },
  {
   "cell_type": "code",
   "execution_count": 31,
   "metadata": {
    "colab": {
     "base_uri": "https://localhost:8080/"
    },
    "id": "Kew-oe25apkS",
    "outputId": "d580c897-d39c-4b66-df2e-9f1d7de60e2e"
   },
   "outputs": [
    {
     "data": {
      "text/plain": [
       "([1, 2, 3], [4, 5, 6], [3, 4, 5, 6])"
      ]
     },
     "execution_count": 31,
     "metadata": {},
     "output_type": "execute_result"
    }
   ],
   "source": [
    "## In python we can get the elements of any list as\n",
    "\n",
    "somelist = [1, 2, 3, 4, 5, 6 ]\n",
    "\n",
    "a = somelist[:3]\n",
    "## This will give us first three elements of our list.\n",
    "\n",
    "b = somelist[3:]\n",
    "## This will be give us all the elements of our list after the 3rd element.\n",
    "\n",
    "c = somelist[2:6]\n",
    "## This will be give us all the elements of our list after the 2nd element till the 6th element.\n",
    "\n",
    "a, b, c"
   ]
  },
  {
   "cell_type": "code",
   "execution_count": 32,
   "metadata": {
    "colab": {
     "base_uri": "https://localhost:8080/"
    },
    "id": "cqZGKKmbU4bw",
    "outputId": "94697483-de98-4005-adaf-b3bc4e98bad1"
   },
   "outputs": [
    {
     "data": {
      "text/plain": [
       "<tf.Tensor: shape=(2, 2, 2, 2), dtype=float32, numpy=\n",
       "array([[[[0., 0.],\n",
       "         [0., 0.]],\n",
       "\n",
       "        [[0., 0.],\n",
       "         [0., 0.]]],\n",
       "\n",
       "\n",
       "       [[[0., 0.],\n",
       "         [0., 0.]],\n",
       "\n",
       "        [[0., 0.],\n",
       "         [0., 0.]]]], dtype=float32)>"
      ]
     },
     "execution_count": 32,
     "metadata": {},
     "output_type": "execute_result"
    }
   ],
   "source": [
    "# Getting the first 2 element of each dimension.\n",
    "\n",
    "tensor_rank_4[:2, :2, :2, :2]"
   ]
  },
  {
   "cell_type": "markdown",
   "metadata": {},
   "source": [
    "- tensor_rank_4 is a tensor with shape = (2,3,4,5).\n",
    "    \n",
    "- tensor_rank_4[:2, :2, :2, :2] gave us a tensor of shape (2,2,2,2) because it is selecting 2 elements from each list."
   ]
  },
  {
   "cell_type": "code",
   "execution_count": 33,
   "metadata": {
    "colab": {
     "base_uri": "https://localhost:8080/"
    },
    "id": "2n95PypNPrr0",
    "outputId": "50e1fadb-90bf-4ddf-cc97-f1f9012042e2"
   },
   "outputs": [
    {
     "data": {
      "text/plain": [
       "<tf.Tensor: shape=(1, 1, 1, 5), dtype=float32, numpy=array([[[[0., 0., 0., 0., 0.]]]], dtype=float32)>"
      ]
     },
     "execution_count": 33,
     "metadata": {},
     "output_type": "execute_result"
    }
   ],
   "source": [
    "## Getting the first element from each dimension except the final one.\n",
    "\n",
    "tensor_rank_4[:1, :1, :1, :] # This works the same as \"tensor_rank_4[:1, :1, :1]\""
   ]
  },
  {
   "cell_type": "markdown",
   "metadata": {},
   "source": [
    "### Note: The shape is (1, 1, 1, 5) because the last dimension was selected as a whole."
   ]
  },
  {
   "cell_type": "code",
   "execution_count": 34,
   "metadata": {
    "colab": {
     "base_uri": "https://localhost:8080/"
    },
    "id": "6zotJHhSoGYL",
    "outputId": "0aa6da34-d4a9-45ec-d718-7b19b39b1e02"
   },
   "outputs": [
    {
     "data": {
      "text/plain": [
       "(<tf.Tensor: shape=(2, 2, 3), dtype=int32, numpy=\n",
       " array([[[1, 2, 3],\n",
       "         [4, 5, 6]],\n",
       " \n",
       "        [[7, 8, 9],\n",
       "         [1, 4, 7]]], dtype=int32)>,\n",
       " TensorShape([2, 2, 3]),\n",
       " 3)"
      ]
     },
     "execution_count": 34,
     "metadata": {},
     "output_type": "execute_result"
    }
   ],
   "source": [
    "rank_d = tf.constant([\n",
    "                       [ # outer block 1\n",
    "                           [1,2,3], # inner block 1\n",
    "                           [4,5,6] # inner block 2\n",
    "                       ],\n",
    "                      \n",
    "                       [ # outer block 2\n",
    "                           [7,8,9], # inner block 1\n",
    "                           [1,4,7] # inner block 2\n",
    "                       ]\n",
    "                    ])\n",
    "\n",
    "rank_d, rank_d.shape, rank_d.ndim"
   ]
  },
  {
   "cell_type": "code",
   "execution_count": 35,
   "metadata": {},
   "outputs": [
    {
     "data": {
      "text/plain": [
       "<tf.Tensor: shape=(2, 2), dtype=int32, numpy=\n",
       "array([[3, 6],\n",
       "       [9, 7]], dtype=int32)>"
      ]
     },
     "execution_count": 35,
     "metadata": {},
     "output_type": "execute_result"
    }
   ],
   "source": [
    "rank_d[:,:,-1]"
   ]
  },
  {
   "cell_type": "markdown",
   "metadata": {},
   "source": [
    "### Breakdown\n",
    "\n",
    "- Select all outer blocks.\n",
    "- Select all inner blocks (lists) in each outer block.\n",
    "- Select only the last element in each inner block.\n",
    "\n",
    "---"
   ]
  },
  {
   "cell_type": "markdown",
   "metadata": {},
   "source": [
    "# Manipulating Tensors\n",
    "\n",
    "---\n",
    "\n",
    "### Adding extra dimension to an tensor. \n",
    "\n",
    "- Example: Converting a rank 2 tensor into rank 3 tensor.\n",
    "- In tensorflow, `tf.newaxis` and  `tf.expand_dims` are the methods that are available to extend dimensions of a tensor.\n",
    "\n",
    "### Method1: `tf.newaxis`"
   ]
  },
  {
   "cell_type": "code",
   "execution_count": 36,
   "metadata": {},
   "outputs": [],
   "source": [
    "rank_2 = tf.constant([[10,7], [3,4]]) # example"
   ]
  },
  {
   "cell_type": "code",
   "execution_count": 37,
   "metadata": {
    "colab": {
     "base_uri": "https://localhost:8080/"
    },
    "id": "HmuuWV68-65N",
    "outputId": "fbdab3e5-704e-4d00-b21c-decfe1577602"
   },
   "outputs": [
    {
     "data": {
      "text/plain": [
       "<tf.Tensor: shape=(2, 2, 1), dtype=int32, numpy=\n",
       "array([[[10],\n",
       "        [ 7]],\n",
       "\n",
       "       [[ 3],\n",
       "        [ 4]]], dtype=int32)>"
      ]
     },
     "execution_count": 37,
     "metadata": {},
     "output_type": "execute_result"
    }
   ],
   "source": [
    "rank_3 = rank_2[..., tf.newaxis] # \"...\" means keep every other axis as same as before.\n",
    "rank_3"
   ]
  },
  {
   "cell_type": "code",
   "execution_count": 38,
   "metadata": {},
   "outputs": [
    {
     "data": {
      "text/plain": [
       "(3, TensorShape([2, 2, 1]))"
      ]
     },
     "execution_count": 38,
     "metadata": {},
     "output_type": "execute_result"
    }
   ],
   "source": [
    "rank_3.ndim, rank_3.shape"
   ]
  },
  {
   "cell_type": "markdown",
   "metadata": {},
   "source": [
    "### Method2: `tf.expand_dims` is an alternative to `tf.newaxis`.\n",
    "\n",
    "- #### It can be used to expand the first or the last axis of a tensor."
   ]
  },
  {
   "cell_type": "code",
   "execution_count": 39,
   "metadata": {
    "colab": {
     "base_uri": "https://localhost:8080/"
    },
    "id": "u5RKaECtYbvC",
    "outputId": "6cdd783e-9fab-4958-eef7-7269d86706df"
   },
   "outputs": [
    {
     "data": {
      "text/plain": [
       "<tf.Tensor: shape=(1, 2, 2), dtype=int32, numpy=\n",
       "array([[[10,  7],\n",
       "        [ 3,  4]]], dtype=int32)>"
      ]
     },
     "execution_count": 39,
     "metadata": {},
     "output_type": "execute_result"
    }
   ],
   "source": [
    "tf.expand_dims(rank_2, axis = 0) # expanding first axis."
   ]
  },
  {
   "cell_type": "code",
   "execution_count": 40,
   "metadata": {
    "colab": {
     "base_uri": "https://localhost:8080/"
    },
    "id": "gcIKnZbfIcSM",
    "outputId": "c2f4a5f2-fc79-43c5-ea18-3a5cf0a6319f"
   },
   "outputs": [
    {
     "data": {
      "text/plain": [
       "<tf.Tensor: shape=(2, 2, 1), dtype=int32, numpy=\n",
       "array([[[10],\n",
       "        [ 7]],\n",
       "\n",
       "       [[ 3],\n",
       "        [ 4]]], dtype=int32)>"
      ]
     },
     "execution_count": 40,
     "metadata": {},
     "output_type": "execute_result"
    }
   ],
   "source": [
    "tf.expand_dims(rank_2, axis = -1) # expanding last axis."
   ]
  },
  {
   "cell_type": "code",
   "execution_count": 41,
   "metadata": {
    "colab": {
     "base_uri": "https://localhost:8080/"
    },
    "id": "DHUXku6NYb6n",
    "outputId": "f515e3d9-a635-407c-8a72-15a6daa76ff0"
   },
   "outputs": [
    {
     "data": {
      "text/plain": [
       "<tf.Tensor: shape=(2, 2, 1), dtype=int32, numpy=\n",
       "array([[[10],\n",
       "        [ 7]],\n",
       "\n",
       "       [[ 3],\n",
       "        [ 4]]], dtype=int32)>"
      ]
     },
     "execution_count": 41,
     "metadata": {},
     "output_type": "execute_result"
    }
   ],
   "source": [
    "## we can also use, tf.newaxis as\n",
    "\n",
    "rank_3 = rank_2[:, :, tf.newaxis]\n",
    "rank_3"
   ]
  },
  {
   "cell_type": "markdown",
   "metadata": {
    "id": "rVyD6RoNVk1j"
   },
   "source": [
    "### 2) Altering values of a tensor using normal mathmatical operators including, addition, multiplication, subtraction, and others."
   ]
  },
  {
   "cell_type": "code",
   "execution_count": 42,
   "metadata": {
    "colab": {
     "base_uri": "https://localhost:8080/"
    },
    "id": "r2kxmpoYVk-o",
    "outputId": "55b8ddc2-83b7-4fac-9f29-c7f8a7bab55c"
   },
   "outputs": [
    {
     "data": {
      "text/plain": [
       "<tf.Tensor: shape=(2, 2), dtype=int32, numpy=\n",
       "array([[20, 17],\n",
       "       [13, 14]], dtype=int32)>"
      ]
     },
     "execution_count": 42,
     "metadata": {},
     "output_type": "execute_result"
    }
   ],
   "source": [
    "tensor = tf.constant([[10,7],[3,4]])\n",
    "tensor + 10"
   ]
  },
  {
   "cell_type": "code",
   "execution_count": 43,
   "metadata": {
    "colab": {
     "base_uri": "https://localhost:8080/"
    },
    "id": "P1MN7NVXVlTt",
    "outputId": "84ffd6f8-57c2-40df-a437-880e2d5dd024"
   },
   "outputs": [
    {
     "data": {
      "text/plain": [
       "<tf.Tensor: shape=(2, 2), dtype=int32, numpy=\n",
       "array([[10,  7],\n",
       "       [ 3,  4]], dtype=int32)>"
      ]
     },
     "execution_count": 43,
     "metadata": {},
     "output_type": "execute_result"
    }
   ],
   "source": [
    "tensor ## Original tensor is unchanged"
   ]
  },
  {
   "cell_type": "code",
   "execution_count": 44,
   "metadata": {
    "colab": {
     "base_uri": "https://localhost:8080/"
    },
    "id": "qHBVRmnRVlbu",
    "outputId": "3a035d6c-4c39-4a54-a146-c80b80e5f524"
   },
   "outputs": [
    {
     "data": {
      "text/plain": [
       "<tf.Tensor: shape=(2, 2), dtype=int32, numpy=\n",
       "array([[100,  70],\n",
       "       [ 30,  40]], dtype=int32)>"
      ]
     },
     "execution_count": 44,
     "metadata": {},
     "output_type": "execute_result"
    }
   ],
   "source": [
    "tensor*10 ## multiplication also works"
   ]
  },
  {
   "cell_type": "code",
   "execution_count": 45,
   "metadata": {
    "colab": {
     "base_uri": "https://localhost:8080/"
    },
    "id": "BHXrfAOpVloz",
    "outputId": "8b9ba792-f5ae-4d96-9749-45b4d0d5edca"
   },
   "outputs": [
    {
     "data": {
      "text/plain": [
       "<tf.Tensor: shape=(2, 2), dtype=int32, numpy=\n",
       "array([[ 0, -3],\n",
       "       [-7, -6]], dtype=int32)>"
      ]
     },
     "execution_count": 45,
     "metadata": {},
     "output_type": "execute_result"
    }
   ],
   "source": [
    "tensor - 10 ## Subtraction"
   ]
  },
  {
   "cell_type": "code",
   "execution_count": 46,
   "metadata": {
    "colab": {
     "base_uri": "https://localhost:8080/"
    },
    "id": "28enehXZVlxl",
    "outputId": "d5275840-44b9-4b52-cfa3-b25995c6bfbe"
   },
   "outputs": [
    {
     "data": {
      "text/plain": [
       "<tf.Tensor: shape=(2, 2), dtype=int32, numpy=\n",
       "array([[100,  70],\n",
       "       [ 30,  40]], dtype=int32)>"
      ]
     },
     "execution_count": 46,
     "metadata": {},
     "output_type": "execute_result"
    }
   ],
   "source": [
    "tf.multiply(tensor, 10) ## For such operations, we can also use tensorflow built-in functions as"
   ]
  },
  {
   "cell_type": "markdown",
   "metadata": {
    "id": "RrlaKyhsVl6d"
   },
   "source": [
    "## **Matrix Multiplication**"
   ]
  },
  {
   "cell_type": "code",
   "execution_count": 47,
   "metadata": {
    "colab": {
     "base_uri": "https://localhost:8080/"
    },
    "id": "IBAsigCRfREL",
    "outputId": "8d54948f-3545-4cce-a353-3a693e636962"
   },
   "outputs": [
    {
     "data": {
      "text/plain": [
       "<tf.Tensor: shape=(2, 2), dtype=int32, numpy=\n",
       "array([[30, 28],\n",
       "       [30, 28]], dtype=int32)>"
      ]
     },
     "execution_count": 47,
     "metadata": {},
     "output_type": "execute_result"
    }
   ],
   "source": [
    "a = tf.constant([[10, 7], [3, 4]])\n",
    "b = tf.constant([[3, 4], [10, 7]])\n",
    "a * b # Note: a * b doesn't perform matrix multiplication. It just multiplies the matrix element-vise."
   ]
  },
  {
   "cell_type": "code",
   "execution_count": 48,
   "metadata": {
    "colab": {
     "base_uri": "https://localhost:8080/"
    },
    "id": "i3tWLW50fRNx",
    "outputId": "cf9165d5-546b-47df-fd44-6f0c391c4bff"
   },
   "outputs": [
    {
     "data": {
      "text/plain": [
       "<tf.Tensor: shape=(2, 2), dtype=int32, numpy=\n",
       "array([[100,  89],\n",
       "       [ 49,  40]], dtype=int32)>"
      ]
     },
     "execution_count": 48,
     "metadata": {},
     "output_type": "execute_result"
    }
   ],
   "source": [
    "# To perform matrix multiplication we can use\n",
    "tf.matmul(a, b)"
   ]
  },
  {
   "cell_type": "code",
   "execution_count": 49,
   "metadata": {
    "colab": {
     "base_uri": "https://localhost:8080/"
    },
    "id": "QFlJ87o9fRYd",
    "outputId": "659ae205-7354-4ecd-aa9f-948709a7138a"
   },
   "outputs": [
    {
     "data": {
      "text/plain": [
       "<tf.Tensor: shape=(2, 2), dtype=int32, numpy=\n",
       "array([[100,  89],\n",
       "       [ 49,  40]], dtype=int32)>"
      ]
     },
     "execution_count": 49,
     "metadata": {},
     "output_type": "execute_result"
    }
   ],
   "source": [
    "## In base python without tensorflow, we can use \"@\" to perform matrix multiplication\n",
    "\n",
    "a@b"
   ]
  },
  {
   "cell_type": "code",
   "execution_count": 50,
   "metadata": {
    "colab": {
     "base_uri": "https://localhost:8080/"
    },
    "id": "XMz5TatffRhB",
    "outputId": "0e4b5da5-817c-4441-efe1-08678c226fb9"
   },
   "outputs": [
    {
     "data": {
      "text/plain": [
       "(<tf.Tensor: shape=(3, 2), dtype=int32, numpy=\n",
       " array([[10,  7],\n",
       "        [ 3,  4],\n",
       "        [ 9,  5]], dtype=int32)>,\n",
       " <tf.Tensor: shape=(2, 3), dtype=int32, numpy=\n",
       " array([[10,  7,  3],\n",
       "        [ 4,  9,  5]], dtype=int32)>,\n",
       " <tf.Tensor: shape=(3, 3), dtype=int32, numpy=\n",
       " array([[128, 133,  65],\n",
       "        [ 46,  57,  29],\n",
       "        [110, 108,  52]], dtype=int32)>)"
      ]
     },
     "execution_count": 50,
     "metadata": {},
     "output_type": "execute_result"
    }
   ],
   "source": [
    "# Note: Matrix can be multiplied only when the no of columns in the first matrix is equal to the number of rows in the second matrix.\n",
    "\n",
    "A = tf.constant([[10, 7],\n",
    "                 [3, 4],\n",
    "                 [9, 5]])\n",
    "\n",
    "B = tf.constant([[10, 7],\n",
    "                 [3, 4],\n",
    "                 [9, 5]])\n",
    "\n",
    "\n",
    "# Here, A@B will throw an error because the number of rows in A is not equal to number of columns in B, their multiplication is not possible.\n",
    "# hence, \"tf.matmul(A, B)\" will also throw an error.\n",
    "\n",
    "# To overcome this issue, we can can reshape B.\n",
    "# Generally, taking transpose is preferred over using tf.reshape()\n",
    "\n",
    "n_B = tf.reshape(B, shape =(2,3)) ## Reshaping B\n",
    "\n",
    "# Now we can multiply our matrix\n",
    "\n",
    "A, n_B, A @ n_B"
   ]
  },
  {
   "cell_type": "code",
   "execution_count": 51,
   "metadata": {
    "colab": {
     "base_uri": "https://localhost:8080/"
    },
    "id": "kyek3qNyium0",
    "outputId": "7db5418b-b43c-4040-827b-08b7d9e6633a"
   },
   "outputs": [
    {
     "data": {
      "text/plain": [
       "(<tf.Tensor: shape=(3, 2), dtype=int32, numpy=\n",
       " array([[10,  7],\n",
       "        [ 3,  4],\n",
       "        [ 9,  5]], dtype=int32)>,\n",
       " <tf.Tensor: shape=(3, 2), dtype=int32, numpy=\n",
       " array([[10,  7],\n",
       "        [ 3,  4],\n",
       "        [ 9,  5]], dtype=int32)>,\n",
       " <tf.Tensor: shape=(2, 3), dtype=int32, numpy=\n",
       " array([[10,  3,  9],\n",
       "        [ 7,  4,  5]], dtype=int32)>,\n",
       " <tf.Tensor: shape=(3, 3), dtype=int32, numpy=\n",
       " array([[149,  58, 125],\n",
       "        [ 58,  25,  47],\n",
       "        [125,  47, 106]], dtype=int32)>)"
      ]
     },
     "execution_count": 51,
     "metadata": {},
     "output_type": "execute_result"
    }
   ],
   "source": [
    "# We can also perform the matrix multiplication by taking the transpose as\n",
    "\n",
    "C = tf.transpose(B)\n",
    "\n",
    "A, B, C, A@C"
   ]
  },
  {
   "cell_type": "markdown",
   "metadata": {
    "id": "0Lx4a9tHiuwM"
   },
   "source": [
    "## Matrix multiplication is also referred as `dot product`.\n",
    "\n",
    "- We can perform matrix multiplication by using\n",
    "  \n",
    "> #### `tf.matmul()`\n",
    ">\n",
    "> #### `tf.tensordot()`\n",
    ">\n",
    "> #### `@`"
   ]
  },
  {
   "cell_type": "code",
   "execution_count": 52,
   "metadata": {
    "colab": {
     "base_uri": "https://localhost:8080/"
    },
    "id": "qJ-QpA7eiu3M",
    "outputId": "5789173e-e339-45c9-baa0-f8665620ca7d"
   },
   "outputs": [
    {
     "data": {
      "text/plain": [
       "<tf.Tensor: shape=(3, 3), dtype=int32, numpy=\n",
       "array([[149,  58, 125],\n",
       "       [ 58,  25,  47],\n",
       "       [125,  47, 106]], dtype=int32)>"
      ]
     },
     "execution_count": 52,
     "metadata": {},
     "output_type": "execute_result"
    }
   ],
   "source": [
    "# Performing dot product on A and B\n",
    "\n",
    "tf.tensordot(A, tf.transpose(B), axes = 1) # \"axes = 1\" peroforms normal matrix multiplication."
   ]
  },
  {
   "cell_type": "code",
   "execution_count": 53,
   "metadata": {
    "colab": {
     "base_uri": "https://localhost:8080/"
    },
    "id": "lia4cnEyivCl",
    "outputId": "39a29dd5-8b8b-44fa-eade-ddfa58a07893"
   },
   "outputs": [
    {
     "data": {
      "text/plain": [
       "<tf.Tensor: shape=(3, 3), dtype=int32, numpy=\n",
       "array([[149,  58, 125],\n",
       "       [ 58,  25,  47],\n",
       "       [125,  47, 106]], dtype=int32)>"
      ]
     },
     "execution_count": 53,
     "metadata": {},
     "output_type": "execute_result"
    }
   ],
   "source": [
    "tf.matmul(A, tf.transpose(B))"
   ]
  },
  {
   "cell_type": "markdown",
   "metadata": {
    "id": "ZBM34ICUivK4"
   },
   "source": [
    "## Changing the datatype of a tensor"
   ]
  },
  {
   "cell_type": "code",
   "execution_count": 54,
   "metadata": {
    "colab": {
     "base_uri": "https://localhost:8080/"
    },
    "id": "zIfg4MzXivS0",
    "outputId": "800cc9ae-7763-4a2a-c89e-59c32922c385"
   },
   "outputs": [
    {
     "data": {
      "text/plain": [
       "tf.int32"
      ]
     },
     "execution_count": 54,
     "metadata": {},
     "output_type": "execute_result"
    }
   ],
   "source": [
    "f = tf.constant([10, 7, 8])\n",
    "f.dtype\n",
    "\n",
    "# The default datatype of the tensor with integers as it's element is int32."
   ]
  },
  {
   "cell_type": "code",
   "execution_count": 55,
   "metadata": {
    "colab": {
     "base_uri": "https://localhost:8080/"
    },
    "id": "9h0ikr1Hiva1",
    "outputId": "3714a40d-c77b-4e4b-f0fa-ca86ca2e38f9"
   },
   "outputs": [
    {
     "data": {
      "text/plain": [
       "tf.float32"
      ]
     },
     "execution_count": 55,
     "metadata": {},
     "output_type": "execute_result"
    }
   ],
   "source": [
    "g = tf.constant([10.0, 7.9, 8.6])\n",
    "g.dtype\n",
    "\n",
    "# The default datatype of the tensor with floating point numbers as it's element is float32."
   ]
  },
  {
   "cell_type": "code",
   "execution_count": 56,
   "metadata": {
    "colab": {
     "base_uri": "https://localhost:8080/"
    },
    "id": "mM67oHnFiv9Q",
    "outputId": "eeebe465-73d1-4ef8-dd53-1f2cbd423cfc"
   },
   "outputs": [
    {
     "data": {
      "text/plain": [
       "tf.float16"
      ]
     },
     "execution_count": 56,
     "metadata": {},
     "output_type": "execute_result"
    }
   ],
   "source": [
    "# Changing datatype from float32 to float16 (and this is referred as reduced precision)\n",
    "\n",
    "h = tf.cast(g, dtype = tf.float16)\n",
    "h.dtype"
   ]
  },
  {
   "cell_type": "code",
   "execution_count": 57,
   "metadata": {
    "colab": {
     "base_uri": "https://localhost:8080/"
    },
    "id": "qkKt1VQszX13",
    "outputId": "4b0c2c45-c580-40fb-e9e1-798261f50a0e"
   },
   "outputs": [
    {
     "data": {
      "text/plain": [
       "(<tf.Tensor: shape=(3,), dtype=float32, numpy=array([10.,  7.,  8.], dtype=float32)>,\n",
       " tf.float32)"
      ]
     },
     "execution_count": 57,
     "metadata": {},
     "output_type": "execute_result"
    }
   ],
   "source": [
    "# changing from int32 to float32\n",
    "\n",
    "i = tf.cast(f, dtype = tf.float32)\n",
    "i, i.dtype"
   ]
  },
  {
   "cell_type": "markdown",
   "metadata": {
    "id": "YrYymP3JzYBc"
   },
   "source": [
    "# Aggregating Tensors\n",
    "\n",
    "**Aggregation** means combining or summarizing values into a single result (or a smaller set of results). \n",
    "\n",
    "> In TensorFlow, we often aggregate tensors to extract meaningful statistics.\n",
    "\n",
    "---\n",
    "\n",
    "## Common Forms of Aggregation\n",
    "\n",
    "- **Absolute value (`tf.abs`)**  \n",
    "  Converts all elements to their non-negative values.  \n",
    "\n",
    "- **Minimum (`tf.reduce_min`)**  \n",
    "  Finds the smallest element in the tensor.  \n",
    "\n",
    "- **Maximum (`tf.reduce_max`)**  \n",
    "  Finds the largest element in the tensor.  \n",
    "\n",
    "- **Mean (`tf.reduce_mean`)**  \n",
    "  Computes the average value of all elements.  \n",
    "\n",
    "- **Sum (`tf.reduce_sum`)**  \n",
    "  Adds up all the elements of the tensor.  \n"
   ]
  },
  {
   "cell_type": "code",
   "execution_count": 58,
   "metadata": {
    "colab": {
     "base_uri": "https://localhost:8080/"
    },
    "id": "3PUn5qobzYMs",
    "outputId": "43b5eeac-d925-4b69-bbfb-b0a60a48911f"
   },
   "outputs": [
    {
     "data": {
      "text/plain": [
       "<tf.Tensor: shape=(2,), dtype=int32, numpy=array([-10,  -7], dtype=int32)>"
      ]
     },
     "execution_count": 58,
     "metadata": {},
     "output_type": "execute_result"
    }
   ],
   "source": [
    "xz = tf.constant([-10,-7])\n",
    "xz"
   ]
  },
  {
   "cell_type": "code",
   "execution_count": 59,
   "metadata": {
    "colab": {
     "base_uri": "https://localhost:8080/"
    },
    "id": "-fY0tZ_HzYW6",
    "outputId": "2b2b81b4-6ed9-4539-ee29-36d50ac20d0f"
   },
   "outputs": [
    {
     "data": {
      "text/plain": [
       "<tf.Tensor: shape=(2,), dtype=int32, numpy=array([10,  7], dtype=int32)>"
      ]
     },
     "execution_count": 59,
     "metadata": {},
     "output_type": "execute_result"
    }
   ],
   "source": [
    "tf.abs(xz) # Getting the absolute value.\n",
    "\n",
    "### tf.abs() converts all the -ve values in a tensor into +ve values."
   ]
  },
  {
   "cell_type": "code",
   "execution_count": 60,
   "metadata": {
    "colab": {
     "base_uri": "https://localhost:8080/"
    },
    "id": "DymcmtUEzYgL",
    "outputId": "ef3d46bc-6806-40a9-d2ba-e7fff9792108"
   },
   "outputs": [
    {
     "data": {
      "text/plain": [
       "<tf.Tensor: shape=(50,), dtype=int64, numpy=\n",
       "array([44, 94, 72, 11, 30, 76, 81, 32, 10, 58, 86, 71,  8, 12, 23, 30,  6,\n",
       "       45, 62, 13, 18, 81, 83, 38, 66, 77, 73, 33, 97, 46, 92, 89, 87, 71,\n",
       "       18, 81, 73, 78, 81, 26, 77, 66, 75, 95, 41, 20, 88,  4, 83, 84])>"
      ]
     },
     "execution_count": 60,
     "metadata": {},
     "output_type": "execute_result"
    }
   ],
   "source": [
    "xy = tf.constant(np.random.randint(0, 100, size = 50)) # creating a random tensor\n",
    "xy"
   ]
  },
  {
   "cell_type": "code",
   "execution_count": 61,
   "metadata": {
    "colab": {
     "base_uri": "https://localhost:8080/"
    },
    "id": "8orNYVxHE4lB",
    "outputId": "c01a8867-864a-4b4c-e16b-f3f4715a79af"
   },
   "outputs": [
    {
     "data": {
      "text/plain": [
       "<tf.Tensor: shape=(), dtype=int64, numpy=4>"
      ]
     },
     "execution_count": 61,
     "metadata": {},
     "output_type": "execute_result"
    }
   ],
   "source": [
    "tf.reduce_min(xy) # getting minimum of a tensor."
   ]
  },
  {
   "cell_type": "code",
   "execution_count": 62,
   "metadata": {
    "colab": {
     "base_uri": "https://localhost:8080/"
    },
    "id": "WEUEn3vBE4zG",
    "outputId": "ce4619fc-3c30-4f27-ca3c-637c649a0e00"
   },
   "outputs": [
    {
     "data": {
      "text/plain": [
       "<tf.Tensor: shape=(), dtype=int64, numpy=97>"
      ]
     },
     "execution_count": 62,
     "metadata": {},
     "output_type": "execute_result"
    }
   ],
   "source": [
    "tf.reduce_max(xy) # getting maximum of a tensor."
   ]
  },
  {
   "cell_type": "code",
   "execution_count": 63,
   "metadata": {
    "colab": {
     "base_uri": "https://localhost:8080/"
    },
    "id": "EOkBerXRzYoP",
    "outputId": "ad9ae2c8-e76a-4df0-f5c2-6dbd933c3957"
   },
   "outputs": [
    {
     "data": {
      "text/plain": [
       "<tf.Tensor: shape=(), dtype=int64, numpy=56>"
      ]
     },
     "execution_count": 63,
     "metadata": {},
     "output_type": "execute_result"
    }
   ],
   "source": [
    "tf.reduce_mean(xy) # getting mean of a tensor."
   ]
  },
  {
   "cell_type": "code",
   "execution_count": 64,
   "metadata": {
    "colab": {
     "base_uri": "https://localhost:8080/"
    },
    "id": "7Dp5VwsEzY4y",
    "outputId": "6ac83fa9-449a-4473-dba0-d46755856633"
   },
   "outputs": [
    {
     "data": {
      "text/plain": [
       "<tf.Tensor: shape=(), dtype=int64, numpy=2805>"
      ]
     },
     "execution_count": 64,
     "metadata": {},
     "output_type": "execute_result"
    }
   ],
   "source": [
    "tf.reduce_sum(xy) # getting sum of a tensor."
   ]
  },
  {
   "cell_type": "markdown",
   "metadata": {},
   "source": [
    "## Variance of a Tensor\n",
    "\n",
    "Variance is calculated by finding the mean, subtracting it from each value, squaring the differences, and then averaging those squared differences.\n",
    "\n",
    "### How Variance is Calculated\n",
    "\n",
    "1. **Find the mean** of all numbers.  \n",
    "   $\\mu = \\frac{\\sum x_i}{N}$\n",
    "\n",
    "2. **Calculate the difference** of each number from the mean.  \n",
    "   $x_i - \\mu$\n",
    "\n",
    "3. **Square each difference** to remove negatives.  \n",
    "   $(x_i - \\mu)^2$\n",
    "\n",
    "4. **Take the average of these squared differences**.  \n",
    "   $\\text{Variance} = \\frac{\\sum (x_i - \\mu)^2}{N}$\n",
    "\n",
    "---\n",
    "\n",
    "- #### Variance of a tensor is a measure of how far its elements are spread out from its mean.\n",
    "- #### In TensorFlow, variance is not available directly in `tf.*`, but we can use the **TensorFlow Probability** module.\n",
    "- #### `tfp.stats.variance(tensor_name)` from **tensorflow_probability**."
   ]
  },
  {
   "cell_type": "code",
   "execution_count": 65,
   "metadata": {
    "colab": {
     "base_uri": "https://localhost:8080/"
    },
    "id": "13bQHIqhzZCZ",
    "outputId": "166cdbb9-4798-4b3e-9f38-00eb85130e86"
   },
   "outputs": [
    {
     "data": {
      "text/plain": [
       "<tf.Tensor: shape=(), dtype=int64, numpy=865>"
      ]
     },
     "execution_count": 65,
     "metadata": {},
     "output_type": "execute_result"
    }
   ],
   "source": [
    "tfp.stats.variance(xy) # Using getting variance of a tensor."
   ]
  },
  {
   "cell_type": "code",
   "execution_count": 66,
   "metadata": {
    "colab": {
     "base_uri": "https://localhost:8080/"
    },
    "id": "r5KFIOY-zc3N",
    "outputId": "1c911666-1c1d-4f7a-87e2-462acb4b7b67"
   },
   "outputs": [
    {
     "data": {
      "text/plain": [
       "<tf.Tensor: shape=(), dtype=float32, numpy=865.72998046875>"
      ]
     },
     "execution_count": 66,
     "metadata": {},
     "output_type": "execute_result"
    }
   ],
   "source": [
    "# Another way of finding variance\n",
    "\n",
    "tf.math.reduce_variance(tf.cast(xy, dtype = tf.float32))\n",
    "\n",
    "## This is done because \"tf.math.reduce_variance\" don't take integer values as input, so we convert data type into float32."
   ]
  },
  {
   "cell_type": "code",
   "execution_count": 67,
   "metadata": {
    "colab": {
     "base_uri": "https://localhost:8080/"
    },
    "id": "PvNgwuLTfSzc",
    "outputId": "4ef750bb-f0a5-43f8-fa5d-13a2dca32c38"
   },
   "outputs": [
    {
     "data": {
      "text/plain": [
       "(<tf.Tensor: shape=(), dtype=float32, numpy=29.423290252685547>,\n",
       " <tf.Tensor: shape=(), dtype=float32, numpy=29.423290252685547>)"
      ]
     },
     "execution_count": 67,
     "metadata": {},
     "output_type": "execute_result"
    }
   ],
   "source": [
    "## Standard deviation is the square root of variance.\n",
    "\n",
    "\n",
    "tf.math.reduce_std(tf.cast(xy, dtype = tf.float32)), tf.math.reduce_variance(tf.cast(xy, dtype = tf.float32))**0.5\n",
    "\n",
    "## Again \"tf.math.reduce_std()\" don't take integer values as input, hence, we cast its dtype into float32."
   ]
  },
  {
   "cell_type": "markdown",
   "metadata": {},
   "source": [
    "## Finding Positional Maximum and Minimum of a tensor."
   ]
  },
  {
   "cell_type": "code",
   "execution_count": 68,
   "metadata": {
    "colab": {
     "base_uri": "https://localhost:8080/"
    },
    "id": "md8ZcP61fxNT",
    "outputId": "3a6b00f2-9f49-4e5f-91ae-71e1f09c0316"
   },
   "outputs": [
    {
     "data": {
      "text/plain": [
       "<tf.Tensor: shape=(50,), dtype=float32, numpy=\n",
       "array([0.6645621 , 0.44100678, 0.3528825 , 0.46448255, 0.03366041,\n",
       "       0.68467236, 0.74011743, 0.8724445 , 0.22632635, 0.22319686,\n",
       "       0.3103881 , 0.7223358 , 0.13318717, 0.5480639 , 0.5746088 ,\n",
       "       0.8996835 , 0.00946367, 0.5212307 , 0.6345445 , 0.1993283 ,\n",
       "       0.72942245, 0.54583454, 0.10756552, 0.6767061 , 0.6602763 ,\n",
       "       0.33695042, 0.60141766, 0.21062577, 0.8527372 , 0.44062173,\n",
       "       0.9485276 , 0.23752594, 0.81179297, 0.5263394 , 0.494308  ,\n",
       "       0.21612847, 0.8457197 , 0.8718841 , 0.3083862 , 0.6868038 ,\n",
       "       0.23764038, 0.7817228 , 0.9671384 , 0.06870162, 0.79873943,\n",
       "       0.66028714, 0.5871513 , 0.16461694, 0.7381023 , 0.32054043],\n",
       "      dtype=float32)>"
      ]
     },
     "execution_count": 68,
     "metadata": {},
     "output_type": "execute_result"
    }
   ],
   "source": [
    "# Creating a new tensor for demonstration.\n",
    "\n",
    "tf.random.set_seed(42)\n",
    "\n",
    "gh = tf.random.uniform(shape = [50]) # this creates a tensor with 50 elements all between 0 & 1 having uniform distribution.\n",
    "gh"
   ]
  },
  {
   "cell_type": "code",
   "execution_count": 69,
   "metadata": {
    "colab": {
     "base_uri": "https://localhost:8080/"
    },
    "id": "g9obY76Nf1ut",
    "outputId": "40e4c733-3c9a-4d5c-9bf4-5bd3ec5caa78"
   },
   "outputs": [
    {
     "data": {
      "text/plain": [
       "(<tf.Tensor: shape=(), dtype=int64, numpy=16>,\n",
       " <tf.Tensor: shape=(), dtype=float32, numpy=0.009463667869567871>)"
      ]
     },
     "execution_count": 69,
     "metadata": {},
     "output_type": "execute_result"
    }
   ],
   "source": [
    "tf.argmin(input = gh), gh[tf.argmin(input = gh)]\n",
    "\n",
    "## So, the index of minimum value is 16 while the minimum value is 0.009463668"
   ]
  },
  {
   "cell_type": "code",
   "execution_count": 70,
   "metadata": {
    "colab": {
     "base_uri": "https://localhost:8080/"
    },
    "id": "RZYlxTp0f1U2",
    "outputId": "7ace1ba6-6cc6-4856-f27a-369fe48e4e5e"
   },
   "outputs": [
    {
     "data": {
      "text/plain": [
       "(<tf.Tensor: shape=(), dtype=int64, numpy=42>,\n",
       " <tf.Tensor: shape=(), dtype=float32, numpy=0.967138409614563>)"
      ]
     },
     "execution_count": 70,
     "metadata": {},
     "output_type": "execute_result"
    }
   ],
   "source": [
    "tf.argmax(input = gh), gh[tf.argmax(input = gh)]\n",
    "\n",
    "## So, the index of maximum value is 42 while the maximum value is 0.9671384"
   ]
  },
  {
   "cell_type": "markdown",
   "metadata": {},
   "source": [
    "## Squeezing a tensor(removing all single dimension)"
   ]
  },
  {
   "cell_type": "code",
   "execution_count": 71,
   "metadata": {
    "colab": {
     "base_uri": "https://localhost:8080/"
    },
    "id": "c4cwgOTcfzy9",
    "outputId": "c142b0db-9ac3-4948-dc4d-8f4716d2aa2c"
   },
   "outputs": [
    {
     "data": {
      "text/plain": [
       "<tf.Tensor: shape=(1, 1, 1, 1, 50), dtype=float32, numpy=\n",
       "array([[[[[0.6645621 , 0.44100678, 0.3528825 , 0.46448255, 0.03366041,\n",
       "           0.68467236, 0.74011743, 0.8724445 , 0.22632635, 0.22319686,\n",
       "           0.3103881 , 0.7223358 , 0.13318717, 0.5480639 , 0.5746088 ,\n",
       "           0.8996835 , 0.00946367, 0.5212307 , 0.6345445 , 0.1993283 ,\n",
       "           0.72942245, 0.54583454, 0.10756552, 0.6767061 , 0.6602763 ,\n",
       "           0.33695042, 0.60141766, 0.21062577, 0.8527372 , 0.44062173,\n",
       "           0.9485276 , 0.23752594, 0.81179297, 0.5263394 , 0.494308  ,\n",
       "           0.21612847, 0.8457197 , 0.8718841 , 0.3083862 , 0.6868038 ,\n",
       "           0.23764038, 0.7817228 , 0.9671384 , 0.06870162, 0.79873943,\n",
       "           0.66028714, 0.5871513 , 0.16461694, 0.7381023 , 0.32054043]]]]],\n",
       "      dtype=float32)>"
      ]
     },
     "execution_count": 71,
     "metadata": {},
     "output_type": "execute_result"
    }
   ],
   "source": [
    "tf.random.set_seed(42)\n",
    "kh = tf.constant(tf.random.uniform(shape = [50]), shape = (1,1,1,1,50))\n",
    "kh"
   ]
  },
  {
   "cell_type": "code",
   "execution_count": 72,
   "metadata": {
    "colab": {
     "base_uri": "https://localhost:8080/"
    },
    "id": "CcFiFMmkfz-o",
    "outputId": "01399859-212b-48d5-b6cd-44c165923d4b"
   },
   "outputs": [
    {
     "data": {
      "text/plain": [
       "TensorShape([1, 1, 1, 1, 50])"
      ]
     },
     "execution_count": 72,
     "metadata": {},
     "output_type": "execute_result"
    }
   ],
   "source": [
    "kh.shape"
   ]
  },
  {
   "cell_type": "code",
   "execution_count": 73,
   "metadata": {
    "colab": {
     "base_uri": "https://localhost:8080/"
    },
    "id": "OjQt28n8f0JS",
    "outputId": "f1401310-13fe-4acd-83b6-c1f83372cb4c"
   },
   "outputs": [
    {
     "data": {
      "text/plain": [
       "(<tf.Tensor: shape=(50,), dtype=float32, numpy=\n",
       " array([0.6645621 , 0.44100678, 0.3528825 , 0.46448255, 0.03366041,\n",
       "        0.68467236, 0.74011743, 0.8724445 , 0.22632635, 0.22319686,\n",
       "        0.3103881 , 0.7223358 , 0.13318717, 0.5480639 , 0.5746088 ,\n",
       "        0.8996835 , 0.00946367, 0.5212307 , 0.6345445 , 0.1993283 ,\n",
       "        0.72942245, 0.54583454, 0.10756552, 0.6767061 , 0.6602763 ,\n",
       "        0.33695042, 0.60141766, 0.21062577, 0.8527372 , 0.44062173,\n",
       "        0.9485276 , 0.23752594, 0.81179297, 0.5263394 , 0.494308  ,\n",
       "        0.21612847, 0.8457197 , 0.8718841 , 0.3083862 , 0.6868038 ,\n",
       "        0.23764038, 0.7817228 , 0.9671384 , 0.06870162, 0.79873943,\n",
       "        0.66028714, 0.5871513 , 0.16461694, 0.7381023 , 0.32054043],\n",
       "       dtype=float32)>,\n",
       " TensorShape([50]))"
      ]
     },
     "execution_count": 73,
     "metadata": {},
     "output_type": "execute_result"
    }
   ],
   "source": [
    "kh_squeezed = tf.squeeze(kh)  # So, \"tf.squeeze()\" removes all the single dimensions.\n",
    "kh_squeezed, kh_squeezed.shape"
   ]
  },
  {
   "cell_type": "markdown",
   "metadata": {
    "id": "ycOPk-FYf0Ty"
   },
   "source": [
    "# One-Hot Encoding in TensorFlow\n",
    "\n",
    "### What is One-Hot Encoding?\n",
    "- **One-hot encoding** is a method to represent categorical data (e.g., labels or classes) as binary vectors.  \n",
    "- Each category is converted into a vector where:\n",
    "  - The index corresponding to the category is marked as `1`.\n",
    "  - All other positions are `0`.\n",
    "\n",
    "---\n",
    "\n",
    "### Example\n",
    "Suppose we have 3 classes: `{0, 1, 2, 3}`. This could be interpreted as red, green, blue, purple.\n",
    "\n",
    "- Red `0` → `[1, 0, 0, 0]`  \n",
    "- Green `1` → `[0, 1, 0, 0]`  \n",
    "- Blue `2` → `[0, 0, 1, 0]`  \n",
    "- Purple `3` → `[0, 0, 0, 1]`\n",
    "\n",
    "It is just like a taffic signal, where we can have red, green and orange light but at a certain point only 1 of them can glow while the others don't. So each label is represented by a vector of length equal to the **number of classes**."
   ]
  },
  {
   "cell_type": "code",
   "execution_count": 74,
   "metadata": {
    "colab": {
     "base_uri": "https://localhost:8080/"
    },
    "id": "5UNlmbimf0dD",
    "outputId": "29d2a69f-5e66-43b6-9336-8d4b09be8c15"
   },
   "outputs": [
    {
     "data": {
      "text/plain": [
       "<tf.Tensor: shape=(4, 4), dtype=float32, numpy=\n",
       "array([[1., 0., 0., 0.],\n",
       "       [0., 1., 0., 0.],\n",
       "       [0., 0., 1., 0.],\n",
       "       [0., 0., 0., 1.]], dtype=float32)>"
      ]
     },
     "execution_count": 74,
     "metadata": {},
     "output_type": "execute_result"
    }
   ],
   "source": [
    "some_list = [0, 1, 2, 3] # Creating a list of indices.\n",
    "depth = 4\n",
    "tf.one_hot(some_list, depth = 4)"
   ]
  },
  {
   "cell_type": "code",
   "execution_count": 75,
   "metadata": {
    "colab": {
     "base_uri": "https://localhost:8080/"
    },
    "id": "eGF3mXcRf0m4",
    "outputId": "93d7e2fe-9c41-4195-d0b5-2110e3c5839d"
   },
   "outputs": [
    {
     "data": {
      "text/plain": [
       "<tf.Tensor: shape=(4, 4), dtype=string, numpy=\n",
       "array([[b'hello', b'bye', b'bye', b'bye'],\n",
       "       [b'bye', b'hello', b'bye', b'bye'],\n",
       "       [b'bye', b'bye', b'hello', b'bye'],\n",
       "       [b'bye', b'bye', b'bye', b'hello']], dtype=object)>"
      ]
     },
     "execution_count": 75,
     "metadata": {},
     "output_type": "execute_result"
    }
   ],
   "source": [
    "## Instead of 0 and 1 we can also specify other values as\n",
    "\n",
    "tf.one_hot(some_list, depth =4, on_value = \"hello\", off_value = \"bye\")"
   ]
  },
  {
   "cell_type": "markdown",
   "metadata": {
    "id": "An7P8Tikfxma"
   },
   "source": [
    "## Other operations on a tensor\n",
    "- #### Squaring\n",
    "- #### log\n",
    "- #### square root"
   ]
  },
  {
   "cell_type": "code",
   "execution_count": 76,
   "metadata": {
    "colab": {
     "base_uri": "https://localhost:8080/"
    },
    "id": "n9uPyml-fxyH",
    "outputId": "b2468def-de63-4052-875b-e27c501e39e6"
   },
   "outputs": [
    {
     "data": {
      "text/plain": [
       "<tf.Tensor: shape=(9,), dtype=int32, numpy=array([1, 2, 3, 4, 5, 6, 7, 8, 9], dtype=int32)>"
      ]
     },
     "execution_count": 76,
     "metadata": {},
     "output_type": "execute_result"
    }
   ],
   "source": [
    "H = tf.range(1,10)\n",
    "H"
   ]
  },
  {
   "cell_type": "code",
   "execution_count": 77,
   "metadata": {
    "colab": {
     "base_uri": "https://localhost:8080/"
    },
    "id": "xmozeNtcfyhb",
    "outputId": "d5933f5c-e7db-4a74-cf53-98eb6045f91f"
   },
   "outputs": [
    {
     "data": {
      "text/plain": [
       "<tf.Tensor: shape=(9,), dtype=int32, numpy=array([ 1,  4,  9, 16, 25, 36, 49, 64, 81], dtype=int32)>"
      ]
     },
     "execution_count": 77,
     "metadata": {},
     "output_type": "execute_result"
    }
   ],
   "source": [
    "tf.square(H) # Square"
   ]
  },
  {
   "cell_type": "code",
   "execution_count": 78,
   "metadata": {
    "colab": {
     "base_uri": "https://localhost:8080/"
    },
    "id": "TUpzVN4Cfyw9",
    "outputId": "37121dce-91e1-418d-f60d-5ae1d6c0fe0e"
   },
   "outputs": [
    {
     "data": {
      "text/plain": [
       "<tf.Tensor: shape=(9,), dtype=float32, numpy=\n",
       "array([1.       , 1.4142135, 1.7320508, 2.       , 2.236068 , 2.4494898,\n",
       "       2.6457512, 2.828427 , 3.       ], dtype=float32)>"
      ]
     },
     "execution_count": 78,
     "metadata": {},
     "output_type": "execute_result"
    }
   ],
   "source": [
    "tf.sqrt(tf.cast(H, dtype = tf.float32)) # Square root\n",
    "\n",
    "# Note: \"tf.sqrt()\" don't take integer values as input."
   ]
  },
  {
   "cell_type": "code",
   "execution_count": 79,
   "metadata": {
    "colab": {
     "base_uri": "https://localhost:8080/"
    },
    "id": "-bOdvzSUfy9h",
    "outputId": "e96d492b-058b-4ff8-96f5-e68a548486ed"
   },
   "outputs": [
    {
     "data": {
      "text/plain": [
       "<tf.Tensor: shape=(9,), dtype=float32, numpy=\n",
       "array([0.       , 0.6931472, 1.0986123, 1.3862944, 1.609438 , 1.7917595,\n",
       "       1.9459102, 2.0794415, 2.1972246], dtype=float32)>"
      ]
     },
     "execution_count": 79,
     "metadata": {},
     "output_type": "execute_result"
    }
   ],
   "source": [
    "tf.math.log(tf.cast(H, dtype = tf.float32)) # Log\n",
    "\n",
    "# Note: \"tf.math.log()\" don't take integer values as input."
   ]
  },
  {
   "cell_type": "code",
   "execution_count": 80,
   "metadata": {
    "colab": {
     "base_uri": "https://localhost:8080/"
    },
    "id": "LDS5dB127BaV",
    "outputId": "2e1a4886-ec5c-414c-ea20-e072b3fd352c"
   },
   "outputs": [
    {
     "data": {
      "text/plain": [
       "(<tf.Tensor: shape=(50,), dtype=int64, numpy=\n",
       " array([44, 94, 72, 11, 30, 76, 81, 32, 10, 58, 86, 71,  8, 12, 23, 30,  6,\n",
       "        45, 62, 13, 18, 81, 83, 38, 66, 77, 73, 33, 97, 46, 92, 89, 87, 71,\n",
       "        18, 81, 73, 78, 81, 26, 77, 66, 75, 95, 41, 20, 88,  4, 83, 84])>,\n",
       " <tf.Tensor: shape=(50,), dtype=int64, numpy=\n",
       " array([97, 95, 94, 92, 89, 88, 87, 86, 84, 83, 83, 81, 81, 81, 81, 78, 77,\n",
       "        77, 76, 75, 73, 73, 72, 71, 71, 66, 66, 62, 58, 46, 45, 44, 41, 38,\n",
       "        33, 32, 30, 30, 26, 23, 20, 18, 18, 13, 12, 11, 10,  8,  6,  4])>)"
      ]
     },
     "execution_count": 80,
     "metadata": {},
     "output_type": "execute_result"
    }
   ],
   "source": [
    "xy, tf.sort(xy,direction='DESCENDING') # Sorting a list with tensor flow."
   ]
  },
  {
   "cell_type": "markdown",
   "metadata": {
    "id": "ScrcoDTB7Boi"
   },
   "source": [
    "## Tensors and Numpy\n",
    "- #### Tensorflow interacts very well with Numpyarrays."
   ]
  },
  {
   "cell_type": "code",
   "execution_count": 81,
   "metadata": {
    "colab": {
     "base_uri": "https://localhost:8080/"
    },
    "id": "C5iUED9NMaF0",
    "outputId": "8a7f416d-39be-4758-948e-9ce88f8a04b8"
   },
   "outputs": [
    {
     "data": {
      "text/plain": [
       "(<tf.Tensor: shape=(3,), dtype=float64, numpy=array([ 3.1,  7.1, 10.1])>,\n",
       " tensorflow.python.framework.ops.EagerTensor)"
      ]
     },
     "execution_count": 81,
     "metadata": {},
     "output_type": "execute_result"
    }
   ],
   "source": [
    "J = tf.constant(np.array([3.1 ,7.1 , 10.1])) ## Creating a tensor from a Numpy array.\n",
    "J, type(J)"
   ]
  },
  {
   "cell_type": "code",
   "execution_count": 82,
   "metadata": {
    "colab": {
     "base_uri": "https://localhost:8080/"
    },
    "id": "_38MX5AF7B-k",
    "outputId": "855d4c39-5229-423c-c7de-8ca572f7c4e0"
   },
   "outputs": [
    {
     "data": {
      "text/plain": [
       "(array([ 3.1,  7.1, 10.1]), numpy.ndarray)"
      ]
     },
     "execution_count": 82,
     "metadata": {},
     "output_type": "execute_result"
    }
   ],
   "source": [
    "np.array(J), type(np.array(J)) ## converting our tensor back to numpy array."
   ]
  },
  {
   "cell_type": "code",
   "execution_count": 83,
   "metadata": {
    "colab": {
     "base_uri": "https://localhost:8080/"
    },
    "id": "hGJ122nv7CG4",
    "outputId": "554ca778-be3d-4369-efe1-616b7854aa17"
   },
   "outputs": [
    {
     "data": {
      "text/plain": [
       "(array([ 3.1,  7.1, 10.1]), numpy.ndarray)"
      ]
     },
     "execution_count": 83,
     "metadata": {},
     "output_type": "execute_result"
    }
   ],
   "source": [
    "J.numpy(), type(J.numpy()) ## Another way of converting a tensor into a numpy array."
   ]
  },
  {
   "cell_type": "code",
   "execution_count": 84,
   "metadata": {
    "colab": {
     "base_uri": "https://localhost:8080/"
    },
    "id": "caFgkERD7COX",
    "outputId": "d97df908-e5d4-4751-bc0f-1cf0b13dc93d"
   },
   "outputs": [
    {
     "data": {
      "text/plain": [
       "(tf.float64, tf.float32)"
      ]
     },
     "execution_count": 84,
     "metadata": {},
     "output_type": "execute_result"
    }
   ],
   "source": [
    "# The default data type of each are slightly different and it is shown as\n",
    "\n",
    "numpy_J = tf.constant(np.array([3., 7., 9.]))\n",
    "tensor_J = tf.constant([3., 7., 9.])\n",
    "numpy_J.dtype, tensor_J.dtype"
   ]
  },
  {
   "cell_type": "markdown",
   "metadata": {
    "jp-MarkdownHeadingCollapsed": true
   },
   "source": [
    "- #### Although both are tensors with same shape and elements but still they have different data type.\n",
    "- #### The major difference between tensorflow tensor and numpy array is that tensorflow tensor can be run on GPU or TPU for faster numerical computing."
   ]
  },
  {
   "cell_type": "markdown",
   "metadata": {},
   "source": [
    "### In base python without tensorflow, we can use \"@\" to perform matrix multiplication as\n",
    "\n",
    "- #### matrix_a@matrix_b"
   ]
  },
  {
   "cell_type": "markdown",
   "metadata": {},
   "source": [
    "---\n",
    "\n",
    "### We can also create our own fnction to perform matrix multiplication."
   ]
  },
  {
   "cell_type": "code",
   "execution_count": 85,
   "metadata": {},
   "outputs": [],
   "source": [
    "def matmul(A, B):\n",
    "    # Get dimensions\n",
    "    rows_A, cols_A = len(A), len(A[0])\n",
    "    rows_B, cols_B = len(B), len(B[0])\n",
    "    \n",
    "    # Check if multiplication is possible\n",
    "    if cols_A != rows_B:\n",
    "        raise ValueError(\"Number of columns of A must equal number of rows of B\")\n",
    "    \n",
    "    # Initialize result with zeros\n",
    "    result = [[0 for _ in range(cols_B)] for _ in range(rows_A)]\n",
    "    \n",
    "    # Multiply\n",
    "    for i in range(rows_A):\n",
    "        for j in range(cols_B):\n",
    "            for k in range(cols_A):  # or rows_B, since cols_A == rows_B\n",
    "                result[i][j] += A[i][k] * B[k][j]\n",
    "    \n",
    "    return result"
   ]
  },
  {
   "cell_type": "code",
   "execution_count": 86,
   "metadata": {},
   "outputs": [
    {
     "data": {
      "text/plain": [
       "[[np.int64(100), np.int64(89)], [np.int64(49), np.int64(40)]]"
      ]
     },
     "execution_count": 86,
     "metadata": {},
     "output_type": "execute_result"
    }
   ],
   "source": [
    "A = np.array([[10, 7], [3, 4]])\n",
    "B = np.array([[3, 4], [10, 7]])\n",
    "\n",
    "matmul(A, B)"
   ]
  },
  {
   "cell_type": "code",
   "execution_count": 87,
   "metadata": {},
   "outputs": [
    {
     "data": {
      "text/plain": [
       "array([[100,  89],\n",
       "       [ 49,  40]])"
      ]
     },
     "execution_count": 87,
     "metadata": {},
     "output_type": "execute_result"
    }
   ],
   "source": [
    "A@B"
   ]
  },
  {
   "cell_type": "code",
   "execution_count": null,
   "metadata": {},
   "outputs": [],
   "source": []
  },
  {
   "cell_type": "code",
   "execution_count": null,
   "metadata": {},
   "outputs": [],
   "source": []
  }
 ],
 "metadata": {
  "accelerator": "GPU",
  "colab": {
   "provenance": []
  },
  "kernelspec": {
   "display_name": "Python (newtf_hub)",
   "language": "python",
   "name": "my_env"
  },
  "language_info": {
   "codemirror_mode": {
    "name": "ipython",
    "version": 3
   },
   "file_extension": ".py",
   "mimetype": "text/x-python",
   "name": "python",
   "nbconvert_exporter": "python",
   "pygments_lexer": "ipython3",
   "version": "3.11.13"
  }
 },
 "nbformat": 4,
 "nbformat_minor": 4
}
