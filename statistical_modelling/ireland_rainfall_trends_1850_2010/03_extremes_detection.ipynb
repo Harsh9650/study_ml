{
 "cells": [
  {
   "cell_type": "code",
   "execution_count": 1,
   "id": "963f0ac8-3879-44cd-ae8e-e420cc6d6fd4",
   "metadata": {},
   "outputs": [],
   "source": [
    "import math\n",
    "import pickle\n",
    "import warnings\n",
    "import numpy as np \n",
    "import pandas as pd\n",
    "import seaborn as sns\n",
    "import matplotlib.pyplot as plt\n",
    "from matplotlib import cm\n",
    "from pathlib import Path\n",
    "\n",
    "warnings.filterwarnings(\"ignore\")"
   ]
  },
  {
   "cell_type": "code",
   "execution_count": 2,
   "id": "77131374-c1b0-4a5f-852f-7aad052dde43",
   "metadata": {},
   "outputs": [],
   "source": [
    "# Apply the default theme\n",
    "sns.set_theme()"
   ]
  },
  {
   "cell_type": "code",
   "execution_count": 3,
   "id": "63759c34-cc44-4453-8616-438347736ed4",
   "metadata": {},
   "outputs": [
    {
     "data": {
      "text/plain": [
       "dict_keys(['rain_data_per_month', 'rain_data_per_year', 'all_station_info'])"
      ]
     },
     "execution_count": 3,
     "metadata": {},
     "output_type": "execute_result"
    }
   ],
   "source": [
    "# loading our data.\n",
    "\n",
    "def load_pickle(path):\n",
    "    with open(path, \"rb\") as f:\n",
    "        return pickle.load(f)\n",
    "\n",
    "data_files = load_pickle(\"irish_rain_bundle.pkl\")\n",
    "data_files.keys()"
   ]
  },
  {
   "cell_type": "markdown",
   "id": "ea406e13-e8bb-4758-92a2-128a44453855",
   "metadata": {},
   "source": [
    "## We'll work with `rain_data_per_year`"
   ]
  },
  {
   "cell_type": "code",
   "execution_count": 4,
   "id": "861ad0a1-387b-41bc-89c1-c3293428ead4",
   "metadata": {},
   "outputs": [],
   "source": [
    "rain_data_per_year = data_files['rain_data_per_year']"
   ]
  },
  {
   "cell_type": "markdown",
   "id": "86560115-aad1-4ad3-a988-c6853256a9c4",
   "metadata": {},
   "source": [
    "### As per the meteorological calendar, **Spring** is March-May, **Summer** is June-August, **Autumn** is September-November, and **Winter** is December-February."
   ]
  },
  {
   "cell_type": "code",
   "execution_count": 5,
   "id": "fb4d91de-8221-4343-8cdf-1b4242217c8b",
   "metadata": {},
   "outputs": [
    {
     "data": {
      "text/plain": [
       "dict_keys(['Cork Airport', 'Killarney', 'Waterford', 'Cappoquinn', 'Dublin Airport', 'Phoenix Park', 'Strokestown', 'Athboy', 'Belfast', 'Enniscorthy', 'Shannon Airport', 'Malin Head', 'Derry', 'Birr', 'Mullingar', 'Valentia', 'Rathdrum', 'Roches Point', 'Markree Castle', 'University College Galway', 'Foulkesmills', 'Armagh', 'Portlaw', 'Ardara', 'Drumsna'])"
      ]
     },
     "execution_count": 5,
     "metadata": {},
     "output_type": "execute_result"
    }
   ],
   "source": [
    "def rainfall_per_season(monthly):\n",
    "    \"\"\"\n",
    "    Sum monthly values (Jan–Dec) into meteorological seasons.\n",
    "\n",
    "    seasons:\n",
    "      - Spring: Mar–May\n",
    "      - Summer: Jun–Aug\n",
    "      - Autumn: Sep–Nov\n",
    "      - Winter: Dec–Feb  (Dec of the same list + Jan, Feb)\n",
    "\n",
    "    Parameters\n",
    "    ----------\n",
    "    monthly : list/tuple of length 12\n",
    "        Monthly values from January to December.\n",
    "    Returns\n",
    "    -------\n",
    "    dict\n",
    "        {\"Spring\": ..., \"Summer\": ..., \"Autumn\": ..., \"Winter\": ...}\n",
    "    \"\"\"\n",
    "    \n",
    "    if len(monthly) != 12:\n",
    "        raise ValueError(\"Expected 12 monthly values (Jan–Dec).\")\n",
    "\n",
    "    def season_sum(indices):\n",
    "        vals = [monthly[i] for i in indices]\n",
    "        return sum(vals)\n",
    "\n",
    "    return {\n",
    "        \"Spring\": season_sum([2, 3, 4]),     # Mar, Apr, May\n",
    "        \"Summer\": season_sum([5, 6, 7]),     # Jun, Jul, Aug\n",
    "        \"Autumn\": season_sum([8, 9, 10]),    # Sep, Oct, Nov\n",
    "        \"Winter\": season_sum([11, 0, 1]),    # Dec, Jan, Feb\n",
    "    }\n",
    "\n",
    "each_year_rainfall_per_station_per_season = {}\n",
    "\n",
    "for station, rain_per_year in rain_data_per_year.items():\n",
    "    if station != 'IIP_National series':\n",
    "        total_rain = []\n",
    "        each_year_per_season_rainfall = {}\n",
    "        for year, rain_series in rain_per_year.items():\n",
    "            each_year_per_season_rainfall[year] = rainfall_per_season(rain_series)\n",
    "        each_year_rainfall_per_station_per_season[station] = each_year_per_season_rainfall\n",
    "\n",
    "\n",
    "each_year_rainfall_per_station_per_season.keys()"
   ]
  },
  {
   "cell_type": "code",
   "execution_count": 6,
   "id": "c13638b5-1a04-441f-b6ae-49393395ae00",
   "metadata": {},
   "outputs": [
    {
     "data": {
      "text/plain": [
       "dict_keys(['1850', '1851', '1852', '1853', '1854', '1855', '1856', '1857', '1858', '1859', '1860', '1861', '1862', '1863', '1864', '1865', '1866', '1867', '1868', '1869', '1870', '1871', '1872', '1873', '1874', '1875', '1876', '1877', '1878', '1879', '1880', '1881', '1882', '1883', '1884', '1885', '1886', '1887', '1888', '1889', '1890', '1891', '1892', '1893', '1894', '1895', '1896', '1897', '1898', '1899', '1900', '1901', '1902', '1903', '1904', '1905', '1906', '1907', '1908', '1909', '1910', '1911', '1912', '1913', '1914', '1915', '1916', '1917', '1918', '1919', '1920', '1921', '1922', '1923', '1924', '1925', '1926', '1927', '1928', '1929', '1930', '1931', '1932', '1933', '1934', '1935', '1936', '1937', '1938', '1939', '1940', '1941', '1942', '1943', '1944', '1945', '1946', '1947', '1948', '1949', '1950', '1951', '1952', '1953', '1954', '1955', '1956', '1957', '1958', '1959', '1960', '1961', '1962', '1963', '1964', '1965', '1966', '1967', '1968', '1969', '1970', '1971', '1972', '1973', '1974', '1975', '1976', '1977', '1978', '1979', '1980', '1981', '1982', '1983', '1984', '1985', '1986', '1987', '1988', '1989', '1990', '1991', '1992', '1993', '1994', '1995', '1996', '1997', '1998', '1999', '2000', '2001', '2002', '2003', '2004', '2005', '2006', '2007', '2008', '2009', '2010'])"
      ]
     },
     "execution_count": 6,
     "metadata": {},
     "output_type": "execute_result"
    }
   ],
   "source": [
    "each_year_rainfall_per_station_per_season['Cork Airport'].keys()"
   ]
  },
  {
   "cell_type": "code",
   "execution_count": 7,
   "id": "e0c9caa3-23c4-40dd-9823-534a98a07856",
   "metadata": {},
   "outputs": [
    {
     "data": {
      "text/plain": [
       "{'Spring': 298.5,\n",
       " 'Summer': 236.9,\n",
       " 'Autumn': 247.7,\n",
       " 'Winter': 417.30000000000007}"
      ]
     },
     "execution_count": 7,
     "metadata": {},
     "output_type": "execute_result"
    }
   ],
   "source": [
    "each_year_rainfall_per_station_per_season['Cork Airport']['1850']"
   ]
  },
  {
   "cell_type": "markdown",
   "id": "2cebc2bf-5c8a-40a6-8c01-ed5b7068fbc2",
   "metadata": {},
   "source": [
    "## Finding the driest and wettest year and season for each station."
   ]
  },
  {
   "cell_type": "code",
   "execution_count": 8,
   "id": "6f706625-4de7-41f5-b5a0-f1ffd9525d8e",
   "metadata": {},
   "outputs": [
    {
     "data": {
      "text/plain": [
       "dict_keys(['Cork Airport', 'Killarney', 'Waterford', 'Cappoquinn', 'Dublin Airport', 'Phoenix Park', 'Strokestown', 'Athboy', 'Belfast', 'Enniscorthy', 'Shannon Airport', 'Malin Head', 'Derry', 'Birr', 'Mullingar', 'Valentia', 'Rathdrum', 'Roches Point', 'Markree Castle', 'University College Galway', 'Foulkesmills', 'Armagh', 'Portlaw', 'Ardara', 'Drumsna'])"
      ]
     },
     "execution_count": 8,
     "metadata": {},
     "output_type": "execute_result"
    }
   ],
   "source": [
    "seasons = [\"Spring\", \"Summer\", \"Autumn\", \"Winter\"]\n",
    "\n",
    "def find_season_extremes(each_year_rainfall_per_station_per_season):\n",
    "    \"\"\"\n",
    "    Input shape:\n",
    "      {\n",
    "        \"StationA\": {\n",
    "            1850: {\"Spring\": ..., \"Summer\": ..., \"Autumn\": ..., \"Winter\": ...},\n",
    "            1851: {...},\n",
    "            ...\n",
    "        },\n",
    "        \"StationB\": {...},\n",
    "        ...\n",
    "      }\n",
    "\n",
    "    Returns per station:\n",
    "      {\n",
    "        station: {\n",
    "          \"dry\":  {season: (year, value)},\n",
    "          \"wet\":  {season: (year, value)},\n",
    "          \"annual_dry\": (year, total),     # optional\n",
    "          \"annual_wet\": (year, total),     # optional\n",
    "        },\n",
    "        ...\n",
    "      }\n",
    "    \"\"\"\n",
    "    records = {}\n",
    "\n",
    "    for station, yearly_data in each_year_rainfall_per_station_per_season.items():\n",
    "        # Per-season extremes\n",
    "        dry = {s: (None, float('inf')) for s in seasons}\n",
    "        wet = {s: (None, float('-inf')) for s in seasons}\n",
    "\n",
    "        # Overall annual extremes (sum of 4 seasons)\n",
    "        annual_dry = (None, float('inf'))\n",
    "        annual_wet = (None, float('-inf'))\n",
    "\n",
    "        for year, sdict in yearly_data.items():\n",
    "            # guard against missing/NaN values\n",
    "            # per-season\n",
    "            for s in seasons:\n",
    "                val = sdict.get(s)\n",
    "                if val is None or (isinstance(val, float) and math.isnan(val)):\n",
    "                    continue\n",
    "                if val < dry[s][1]:\n",
    "                    dry[s] = (year, val)\n",
    "                if val > wet[s][1]:\n",
    "                    wet[s] = (year, val)\n",
    "\n",
    "            # annual total\n",
    "            vals = [sdict.get(s) for s in seasons]\n",
    "            vals = [v for v in vals if v is not None and not (isinstance(v, float) and math.isnan(v))]\n",
    "            if len(vals) == 4:  # only use complete years\n",
    "                total = sum(vals)\n",
    "                if total < annual_dry[1]:\n",
    "                    annual_dry = (year, total)\n",
    "                if total > annual_wet[1]:\n",
    "                    annual_wet = (year, total)\n",
    "\n",
    "        records[station] = {\n",
    "            \"dry\": dry,\n",
    "            \"wet\": wet,\n",
    "            \"annual_dry\": annual_dry,\n",
    "            \"annual_wet\": annual_wet,\n",
    "        }\n",
    "\n",
    "    return records\n",
    "\n",
    "\n",
    "records = find_season_extremes(each_year_rainfall_per_station_per_season)\n",
    "records.keys()"
   ]
  },
  {
   "cell_type": "code",
   "execution_count": 9,
   "id": "5f6e1236-2499-4543-9930-45b6b0b42c15",
   "metadata": {},
   "outputs": [
    {
     "data": {
      "text/plain": [
       "{'dry': {'Spring': ('1990', 90.19999999999999),\n",
       "  'Summer': ('1869', 79.8),\n",
       "  'Autumn': ('1942', 99.10000000000001),\n",
       "  'Winter': ('1949', 176.5)},\n",
       " 'wet': {'Spring': ('1947', 502.7),\n",
       "  'Summer': ('1878', 499.4),\n",
       "  'Autumn': ('1881', 572.5),\n",
       "  'Winter': ('1899', 743.6999999999999)},\n",
       " 'annual_dry': ('1854', 740.1),\n",
       " 'annual_wet': ('1881', 1636.8999999999999)}"
      ]
     },
     "execution_count": 9,
     "metadata": {},
     "output_type": "execute_result"
    }
   ],
   "source": [
    "records['Cork Airport']"
   ]
  },
  {
   "cell_type": "code",
   "execution_count": 10,
   "id": "477f6b58-7dcd-4e79-8d50-793167946987",
   "metadata": {},
   "outputs": [],
   "source": [
    "def records_to_wide_singlecol(records: dict, weather_type: str, value_fmt: str = \".1f\"):\n",
    "    stations = sorted(records.keys())\n",
    "    cols = list(seasons) + [\"Annual\"]   # seasons is already defined by you\n",
    "    wide = pd.DataFrame(index=stations, columns=cols, dtype=object)\n",
    "\n",
    "    for st in stations:\n",
    "        rec = records.get(st, {})\n",
    "        sdict = rec.get(weather_type, {})\n",
    "\n",
    "        # seasons\n",
    "        for s in seasons:\n",
    "            yr, val = sdict.get(s, (None, None))\n",
    "            cell = (int(yr), format(val, value_fmt))\n",
    "            wide.loc[st, s] = cell\n",
    "\n",
    "        # annual\n",
    "        annual_key = \"annual_dry\" if weather_type == \"dry\" else \"annual_wet\"\n",
    "        ay, av = rec.get(annual_key, (None, None))\n",
    "        annual_cell = (int(ay), format(av, value_fmt))\n",
    "        wide.loc[st, \"Annual\"] = annual_cell\n",
    "\n",
    "    return wide\n",
    "\n",
    "dry_extremes = records_to_wide_singlecol(records, \"dry\")\n",
    "wet_extremes = records_to_wide_singlecol(records, \"wet\")"
   ]
  },
  {
   "cell_type": "code",
   "execution_count": 11,
   "id": "372eee16-fa66-4fee-9a81-f8cfd9c96ffb",
   "metadata": {},
   "outputs": [
    {
     "data": {
      "text/html": [
       "<div>\n",
       "<style scoped>\n",
       "    .dataframe tbody tr th:only-of-type {\n",
       "        vertical-align: middle;\n",
       "    }\n",
       "\n",
       "    .dataframe tbody tr th {\n",
       "        vertical-align: top;\n",
       "    }\n",
       "\n",
       "    .dataframe thead th {\n",
       "        text-align: right;\n",
       "    }\n",
       "</style>\n",
       "<table border=\"1\" class=\"dataframe\">\n",
       "  <thead>\n",
       "    <tr style=\"text-align: right;\">\n",
       "      <th></th>\n",
       "      <th>Spring</th>\n",
       "      <th>Summer</th>\n",
       "      <th>Autumn</th>\n",
       "      <th>Winter</th>\n",
       "      <th>Annual</th>\n",
       "    </tr>\n",
       "  </thead>\n",
       "  <tbody>\n",
       "    <tr>\n",
       "      <th>Ardara</th>\n",
       "      <td>(1929, 135.3)</td>\n",
       "      <td>(1984, 158.0)</td>\n",
       "      <td>(1933, 244.6)</td>\n",
       "      <td>(1963, 155.2)</td>\n",
       "      <td>(1933, 1121.1)</td>\n",
       "    </tr>\n",
       "    <tr>\n",
       "      <th>Armagh</th>\n",
       "      <td>(1870, 43.2)</td>\n",
       "      <td>(1995, 79.9)</td>\n",
       "      <td>(1933, 78.6)</td>\n",
       "      <td>(1987, 100.4)</td>\n",
       "      <td>(1933, 549.5)</td>\n",
       "    </tr>\n",
       "    <tr>\n",
       "      <th>Athboy</th>\n",
       "      <td>(1893, 77.0)</td>\n",
       "      <td>(1995, 94.0)</td>\n",
       "      <td>(1893, 108.4)</td>\n",
       "      <td>(1963, 84.6)</td>\n",
       "      <td>(1893, 587.7)</td>\n",
       "    </tr>\n",
       "    <tr>\n",
       "      <th>Belfast</th>\n",
       "      <td>(1875, 86.5)</td>\n",
       "      <td>(1976, 109.3)</td>\n",
       "      <td>(1933, 122.8)</td>\n",
       "      <td>(1855, 126.4)</td>\n",
       "      <td>(1855, 697.1)</td>\n",
       "    </tr>\n",
       "    <tr>\n",
       "      <th>Birr</th>\n",
       "      <td>(1915, 76.5)</td>\n",
       "      <td>(1976, 90.1)</td>\n",
       "      <td>(1912, 108.0)</td>\n",
       "      <td>(1963, 63.9)</td>\n",
       "      <td>(2003, 589.7)</td>\n",
       "    </tr>\n",
       "  </tbody>\n",
       "</table>\n",
       "</div>"
      ],
      "text/plain": [
       "                Spring         Summer         Autumn         Winter  \\\n",
       "Ardara   (1929, 135.3)  (1984, 158.0)  (1933, 244.6)  (1963, 155.2)   \n",
       "Armagh    (1870, 43.2)   (1995, 79.9)   (1933, 78.6)  (1987, 100.4)   \n",
       "Athboy    (1893, 77.0)   (1995, 94.0)  (1893, 108.4)   (1963, 84.6)   \n",
       "Belfast   (1875, 86.5)  (1976, 109.3)  (1933, 122.8)  (1855, 126.4)   \n",
       "Birr      (1915, 76.5)   (1976, 90.1)  (1912, 108.0)   (1963, 63.9)   \n",
       "\n",
       "                 Annual  \n",
       "Ardara   (1933, 1121.1)  \n",
       "Armagh    (1933, 549.5)  \n",
       "Athboy    (1893, 587.7)  \n",
       "Belfast   (1855, 697.1)  \n",
       "Birr      (2003, 589.7)  "
      ]
     },
     "execution_count": 11,
     "metadata": {},
     "output_type": "execute_result"
    }
   ],
   "source": [
    "dry_extremes.head()"
   ]
  },
  {
   "cell_type": "code",
   "execution_count": 12,
   "id": "339df50f-8941-4a84-b782-65dcce03413e",
   "metadata": {},
   "outputs": [
    {
     "data": {
      "text/html": [
       "<div>\n",
       "<style scoped>\n",
       "    .dataframe tbody tr th:only-of-type {\n",
       "        vertical-align: middle;\n",
       "    }\n",
       "\n",
       "    .dataframe tbody tr th {\n",
       "        vertical-align: top;\n",
       "    }\n",
       "\n",
       "    .dataframe thead th {\n",
       "        text-align: right;\n",
       "    }\n",
       "</style>\n",
       "<table border=\"1\" class=\"dataframe\">\n",
       "  <thead>\n",
       "    <tr style=\"text-align: right;\">\n",
       "      <th></th>\n",
       "      <th>Spring</th>\n",
       "      <th>Summer</th>\n",
       "      <th>Autumn</th>\n",
       "      <th>Winter</th>\n",
       "      <th>Annual</th>\n",
       "    </tr>\n",
       "  </thead>\n",
       "  <tbody>\n",
       "    <tr>\n",
       "      <th>Ardara</th>\n",
       "      <td>(1986, 569.3)</td>\n",
       "      <td>(1861, 637.8)</td>\n",
       "      <td>(1954, 816.6)</td>\n",
       "      <td>(1852, 780.2)</td>\n",
       "      <td>(1872, 2350.0)</td>\n",
       "    </tr>\n",
       "    <tr>\n",
       "      <th>Armagh</th>\n",
       "      <td>(1947, 295.7)</td>\n",
       "      <td>(2007, 376.7)</td>\n",
       "      <td>(1954, 355.3)</td>\n",
       "      <td>(1852, 339.2)</td>\n",
       "      <td>(1852, 1122.0)</td>\n",
       "    </tr>\n",
       "    <tr>\n",
       "      <th>Athboy</th>\n",
       "      <td>(1947, 382.1)</td>\n",
       "      <td>(1958, 437.4)</td>\n",
       "      <td>(1944, 410.2)</td>\n",
       "      <td>(1978, 405.2)</td>\n",
       "      <td>(1924, 1248.5)</td>\n",
       "    </tr>\n",
       "    <tr>\n",
       "      <th>Belfast</th>\n",
       "      <td>(1947, 384.0)</td>\n",
       "      <td>(2007, 582.2)</td>\n",
       "      <td>(1954, 492.5)</td>\n",
       "      <td>(1978, 499.5)</td>\n",
       "      <td>(2002, 1405.7)</td>\n",
       "    </tr>\n",
       "    <tr>\n",
       "      <th>Birr</th>\n",
       "      <td>(1947, 330.8)</td>\n",
       "      <td>(2007, 466.9)</td>\n",
       "      <td>(2000, 369.2)</td>\n",
       "      <td>(1946, 380.2)</td>\n",
       "      <td>(1946, 1132.5)</td>\n",
       "    </tr>\n",
       "  </tbody>\n",
       "</table>\n",
       "</div>"
      ],
      "text/plain": [
       "                Spring         Summer         Autumn         Winter  \\\n",
       "Ardara   (1986, 569.3)  (1861, 637.8)  (1954, 816.6)  (1852, 780.2)   \n",
       "Armagh   (1947, 295.7)  (2007, 376.7)  (1954, 355.3)  (1852, 339.2)   \n",
       "Athboy   (1947, 382.1)  (1958, 437.4)  (1944, 410.2)  (1978, 405.2)   \n",
       "Belfast  (1947, 384.0)  (2007, 582.2)  (1954, 492.5)  (1978, 499.5)   \n",
       "Birr     (1947, 330.8)  (2007, 466.9)  (2000, 369.2)  (1946, 380.2)   \n",
       "\n",
       "                 Annual  \n",
       "Ardara   (1872, 2350.0)  \n",
       "Armagh   (1852, 1122.0)  \n",
       "Athboy   (1924, 1248.5)  \n",
       "Belfast  (2002, 1405.7)  \n",
       "Birr     (1946, 1132.5)  "
      ]
     },
     "execution_count": 12,
     "metadata": {},
     "output_type": "execute_result"
    }
   ],
   "source": [
    "wet_extremes.head()"
   ]
  },
  {
   "cell_type": "code",
   "execution_count": 13,
   "id": "86993bc5-2ae0-4b8f-adef-854fa667ef82",
   "metadata": {},
   "outputs": [
    {
     "data": {
      "text/plain": [
       "Annual\n",
       "1887    6\n",
       "1933    4\n",
       "1893    4\n",
       "1921    2\n",
       "1971    2\n",
       "1855    1\n",
       "2003    1\n",
       "1854    1\n",
       "1929    1\n",
       "1900    1\n",
       "1864    1\n",
       "1905    1\n",
       "Name: count, dtype: int64"
      ]
     },
     "execution_count": 13,
     "metadata": {},
     "output_type": "execute_result"
    }
   ],
   "source": [
    "dry_extremes['Annual'].apply(lambda t: t[0]).value_counts()"
   ]
  },
  {
   "cell_type": "code",
   "execution_count": 14,
   "id": "02910781-6557-4872-89b3-79e5dfc345cf",
   "metadata": {},
   "outputs": [
    {
     "data": {
      "text/plain": [
       "Annual\n",
       "2002    6\n",
       "1872    4\n",
       "1924    2\n",
       "1928    2\n",
       "1852    1\n",
       "1946    1\n",
       "1881    1\n",
       "1960    1\n",
       "1861    1\n",
       "1954    1\n",
       "1958    1\n",
       "1903    1\n",
       "1966    1\n",
       "2008    1\n",
       "2009    1\n",
       "Name: count, dtype: int64"
      ]
     },
     "execution_count": 14,
     "metadata": {},
     "output_type": "execute_result"
    }
   ],
   "source": [
    "wet_extremes['Annual'].apply(lambda t: t[0]).value_counts()"
   ]
  },
  {
   "cell_type": "markdown",
   "id": "00cedf2d-d85b-4fed-9064-10396235a04d",
   "metadata": {},
   "source": [
    "## Interpretation\n",
    "- Out of the 25 stations, 6 stations recorded dry extreme in 1887, while 4 in 1893 and 1933.\n",
    "- Out of the 25 stations, 6 stations recorded wet extreme in 2002, while 4 in 1872."
   ]
  },
  {
   "cell_type": "code",
   "execution_count": null,
   "id": "521b3192-4233-4dc8-952e-afee0210d2de",
   "metadata": {},
   "outputs": [],
   "source": []
  },
  {
   "cell_type": "code",
   "execution_count": null,
   "id": "72b70e65-817f-496c-8146-17fc911c8647",
   "metadata": {},
   "outputs": [],
   "source": []
  }
 ],
 "metadata": {
  "kernelspec": {
   "display_name": "Python (newtf_hub)",
   "language": "python",
   "name": "my_env"
  },
  "language_info": {
   "codemirror_mode": {
    "name": "ipython",
    "version": 3
   },
   "file_extension": ".py",
   "mimetype": "text/x-python",
   "name": "python",
   "nbconvert_exporter": "python",
   "pygments_lexer": "ipython3",
   "version": "3.11.13"
  }
 },
 "nbformat": 4,
 "nbformat_minor": 5
}
