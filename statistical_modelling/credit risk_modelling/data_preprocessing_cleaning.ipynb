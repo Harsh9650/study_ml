{
 "cells": [
  {
   "cell_type": "code",
   "execution_count": 1,
   "id": "3684646e-5a44-440b-9f61-c7fb260ee8a5",
   "metadata": {},
   "outputs": [],
   "source": [
    "import warnings\n",
    "import numpy as np\n",
    "import pandas as pd\n",
    "import seaborn as sns\n",
    "import matplotlib.pyplot as plt\n",
    "from sklearn.model_selection import train_test_split\n",
    "from dateutil.relativedelta import relativedelta\n",
    "from functions_used import months_between"
   ]
  },
  {
   "cell_type": "code",
   "execution_count": 2,
   "id": "cec84719-f28c-4a1b-9f76-a7b380551214",
   "metadata": {},
   "outputs": [],
   "source": [
    "warnings.filterwarnings('ignore') # to supress warnings"
   ]
  },
  {
   "cell_type": "code",
   "execution_count": 3,
   "id": "e1d46bb4-5d4b-464e-bc8d-32d546d01c1c",
   "metadata": {},
   "outputs": [],
   "source": [
    "sns.set()"
   ]
  },
  {
   "cell_type": "code",
   "execution_count": 4,
   "id": "5d9bd5f7-e8f9-4809-b743-eb14b99677cf",
   "metadata": {},
   "outputs": [],
   "source": [
    "loan_dataset = pd.read_csv('dataset/loan1.csv') # Loading updated data."
   ]
  },
  {
   "cell_type": "markdown",
   "id": "8f885fa0-c1df-49d9-932e-b372d2299232",
   "metadata": {},
   "source": [
    "### **Note:- In pandas and NumPy, dtype('O') stands for \"Object data type\". It typically refers to columns that contains Strings or text, Mixed types (e.g., numbers + text), and Python objects (lists, dicts, etc.).**\n"
   ]
  },
  {
   "cell_type": "code",
   "execution_count": 5,
   "id": "c8e4477e-37fe-48b4-9f3d-2b01faad9535",
   "metadata": {
    "scrolled": true
   },
   "outputs": [
    {
     "data": {
      "text/plain": [
       "funded_amnt                                     int64\n",
       "term                                           object\n",
       "int_rate                                      float64\n",
       "installment                                   float64\n",
       "grade                                          object\n",
       "sub_grade                                      object\n",
       "emp_title                                      object\n",
       "emp_length                                     object\n",
       "home_ownership                                 object\n",
       "annual_inc                                    float64\n",
       "verification_status                            object\n",
       "issue_d                                        object\n",
       "loan_status                                    object\n",
       "pymnt_plan                                     object\n",
       "desc                                           object\n",
       "purpose                                        object\n",
       "title                                          object\n",
       "zip_code                                       object\n",
       "addr_state                                     object\n",
       "dti                                           float64\n",
       "delinq_2yrs                                   float64\n",
       "earliest_cr_line                               object\n",
       "inq_last_6mths                                float64\n",
       "mths_since_last_delinq                        float64\n",
       "mths_since_last_record                        float64\n",
       "open_acc                                      float64\n",
       "pub_rec                                       float64\n",
       "revol_bal                                       int64\n",
       "revol_util                                    float64\n",
       "total_acc                                     float64\n",
       "initial_list_status                            object\n",
       "out_prncp                                     float64\n",
       "out_prncp_inv                                 float64\n",
       "total_pymnt                                   float64\n",
       "total_pymnt_inv                               float64\n",
       "total_rec_prncp                               float64\n",
       "total_rec_int                                 float64\n",
       "total_rec_late_fee                            float64\n",
       "recoveries                                    float64\n",
       "collection_recovery_fee                       float64\n",
       "last_pymnt_d                                   object\n",
       "last_pymnt_amnt                               float64\n",
       "next_pymnt_d                                   object\n",
       "last_credit_pull_d                             object\n",
       "collections_12_mths_ex_med                    float64\n",
       "mths_since_last_major_derog                   float64\n",
       "policy_code                                     int64\n",
       "application_type                               object\n",
       "annual_inc_joint                              float64\n",
       "dti_joint                                     float64\n",
       "verification_status_joint                      object\n",
       "acc_now_delinq                                float64\n",
       "tot_coll_amt                                  float64\n",
       "tot_cur_bal                                   float64\n",
       "open_acc_6m                                   float64\n",
       "open_act_il                                   float64\n",
       "open_il_12m                                   float64\n",
       "open_il_24m                                   float64\n",
       "mths_since_rcnt_il                            float64\n",
       "total_bal_il                                  float64\n",
       "il_util                                       float64\n",
       "open_rv_12m                                   float64\n",
       "open_rv_24m                                   float64\n",
       "max_bal_bc                                    float64\n",
       "all_util                                      float64\n",
       "total_rev_hi_lim                              float64\n",
       "inq_fi                                        float64\n",
       "total_cu_tl                                   float64\n",
       "inq_last_12m                                  float64\n",
       "acc_open_past_24mths                          float64\n",
       "avg_cur_bal                                   float64\n",
       "bc_open_to_buy                                float64\n",
       "bc_util                                       float64\n",
       "chargeoff_within_12_mths                      float64\n",
       "delinq_amnt                                   float64\n",
       "mo_sin_old_il_acct                            float64\n",
       "mo_sin_old_rev_tl_op                          float64\n",
       "mo_sin_rcnt_rev_tl_op                         float64\n",
       "mo_sin_rcnt_tl                                float64\n",
       "mort_acc                                      float64\n",
       "mths_since_recent_bc                          float64\n",
       "mths_since_recent_bc_dlq                      float64\n",
       "mths_since_recent_inq                         float64\n",
       "mths_since_recent_revol_delinq                float64\n",
       "num_accts_ever_120_pd                         float64\n",
       "num_actv_bc_tl                                float64\n",
       "num_actv_rev_tl                               float64\n",
       "num_bc_sats                                   float64\n",
       "num_bc_tl                                     float64\n",
       "num_il_tl                                     float64\n",
       "num_op_rev_tl                                 float64\n",
       "num_rev_accts                                 float64\n",
       "num_rev_tl_bal_gt_0                           float64\n",
       "num_sats                                      float64\n",
       "num_tl_120dpd_2m                              float64\n",
       "num_tl_30dpd                                  float64\n",
       "num_tl_90g_dpd_24m                            float64\n",
       "num_tl_op_past_12m                            float64\n",
       "pct_tl_nvr_dlq                                float64\n",
       "percent_bc_gt_75                              float64\n",
       "pub_rec_bankruptcies                          float64\n",
       "tax_liens                                     float64\n",
       "tot_hi_cred_lim                               float64\n",
       "total_bal_ex_mort                             float64\n",
       "total_bc_limit                                float64\n",
       "total_il_high_credit_limit                    float64\n",
       "revol_bal_joint                               float64\n",
       "sec_app_earliest_cr_line                       object\n",
       "sec_app_inq_last_6mths                        float64\n",
       "sec_app_mort_acc                              float64\n",
       "sec_app_open_acc                              float64\n",
       "sec_app_revol_util                            float64\n",
       "sec_app_open_act_il                           float64\n",
       "sec_app_num_rev_accts                         float64\n",
       "sec_app_chargeoff_within_12_mths              float64\n",
       "sec_app_collections_12_mths_ex_med            float64\n",
       "sec_app_mths_since_last_major_derog           float64\n",
       "hardship_flag                                  object\n",
       "hardship_type                                  object\n",
       "hardship_reason                                object\n",
       "hardship_status                                object\n",
       "deferral_term                                 float64\n",
       "hardship_amount                               float64\n",
       "hardship_start_date                            object\n",
       "hardship_end_date                              object\n",
       "payment_plan_start_date                        object\n",
       "hardship_length                               float64\n",
       "hardship_dpd                                  float64\n",
       "hardship_loan_status                           object\n",
       "orig_projected_additional_accrued_interest    float64\n",
       "hardship_payoff_balance_amount                float64\n",
       "hardship_last_payment_amount                  float64\n",
       "disbursement_method                            object\n",
       "debt_settlement_flag                           object\n",
       "debt_settlement_flag_date                      object\n",
       "settlement_status                              object\n",
       "settlement_date                                object\n",
       "settlement_amount                             float64\n",
       "settlement_percentage                         float64\n",
       "settlement_term                               float64\n",
       "dtype: object"
      ]
     },
     "execution_count": 5,
     "metadata": {},
     "output_type": "execute_result"
    }
   ],
   "source": [
    "pd.options.display.max_rows = None\n",
    "\n",
    "loan_dataset.dtypes # To get the datatype of the values stored in each column.\n",
    "# dataset['loan_amnt'].dtype # for individual colum"
   ]
  },
  {
   "cell_type": "markdown",
   "id": "37e04331-b879-4a5c-b508-4fcb1f0dd29f",
   "metadata": {},
   "source": [
    "### **Preprocessing:-** In the given dataset, several variables (columns) are represented with incorrect data types and values (such as nan). Hence, they need to be preprocessed before we can use them in our model. These variables are listed below,\n",
    "\n",
    "---\n",
    "> **emp_length:-** represented as object data type (dtype('O')). However, it should hold numeric values.\n",
    ">\n",
    "> **term:-** represented as object data type (dtype('O')). However, it should hold numeric values.\n",
    ">\n",
    "> **earliest_cr_line:-** represented as object data type (dtype('O')). However, it should hold time stamps.\n",
    ">\n",
    "> **issue_d:-** represented as object data type (dtype('O')). However, it should hold time stamps.\n",
    "\n",
    "---\n",
    "###### \n",
    "- ### **emp_length**"
   ]
  },
  {
   "cell_type": "code",
   "execution_count": 6,
   "id": "97223a2e-8864-4068-a881-69fa22908739",
   "metadata": {},
   "outputs": [
    {
     "data": {
      "text/plain": [
       "array(['10+ years', '6 years', '4 years', '< 1 year', '2 years',\n",
       "       '9 years', nan, '5 years', '3 years', '7 years', '1 year',\n",
       "       '8 years'], dtype=object)"
      ]
     },
     "execution_count": 6,
     "metadata": {},
     "output_type": "execute_result"
    }
   ],
   "source": [
    "# To get all unique values from a single column.\n",
    "\n",
    "loan_dataset['emp_length'].unique()"
   ]
  },
  {
   "cell_type": "code",
   "execution_count": 7,
   "id": "a7eb8271-b470-4425-8080-02f55a32678f",
   "metadata": {},
   "outputs": [
    {
     "data": {
      "text/plain": [
       "np.int64(146907)"
      ]
     },
     "execution_count": 7,
     "metadata": {},
     "output_type": "execute_result"
    }
   ],
   "source": [
    "# Note, we have some nan values in our 'emp_length', and these values can't be converted into valid years. \n",
    "\n",
    "# count = 0\n",
    "# for i in dataset['earliest_cr_line']:\n",
    "#     if pd.isna(i):\n",
    "#         count += 1\n",
    "\n",
    "nan_count = loan_dataset['emp_length'].isna().sum() # to get nan count\n",
    "nan_count "
   ]
  },
  {
   "cell_type": "markdown",
   "id": "7348e973-eca9-40bf-9e86-e28e93b4da2f",
   "metadata": {},
   "source": [
    "### Employement length is missing for 146907 records, we can't drop them and neither can we impute them directly with zeros. So, we will create an indicator variable (new column with 1 (when employement length is missing) and 0 (when employement length is not missing)). Then, in the main column, we can impute zero for missing values. This way, we have created an specific indicator for our model to highlight missing values."
   ]
  },
  {
   "cell_type": "code",
   "execution_count": 8,
   "id": "4f74a2ef-2e25-4227-b74b-a54edf57a293",
   "metadata": {},
   "outputs": [],
   "source": [
    "loan_dataset['emp_length_int'] = loan_dataset['emp_length'].str.replace('+ years', '')\n",
    "loan_dataset['emp_length_int'] = loan_dataset['emp_length_int'].str.replace('< 1 year', str(0))\n",
    "loan_dataset['emp_length_int'] = loan_dataset['emp_length_int'].str.replace('years', '')\n",
    "loan_dataset['emp_length_int'] = loan_dataset['emp_length_int'].str.replace('year', '')"
   ]
  },
  {
   "cell_type": "code",
   "execution_count": 9,
   "id": "8ec5ae12-fb57-4ba9-bb57-f366bac16178",
   "metadata": {},
   "outputs": [
    {
     "data": {
      "text/plain": [
       "array(['10', '6 ', '4 ', '0', '2 ', '9 ', '5 ', '3 ', '7 ', '1 ', '8 '],\n",
       "      dtype=object)"
      ]
     },
     "execution_count": 9,
     "metadata": {},
     "output_type": "execute_result"
    }
   ],
   "source": [
    "loan_dataset['emp_length_missing'] = loan_dataset['emp_length_int'].isna().astype(int)\n",
    "\n",
    "loan_dataset['emp_length_int'] = loan_dataset['emp_length_int'].fillna('0') # or use ..... dataset['emp_length_int'].fillna('0', inplace=True)\n",
    "\n",
    "loan_dataset['emp_length_int'].unique()"
   ]
  },
  {
   "cell_type": "code",
   "execution_count": 10,
   "id": "8b3b1dea-2780-4689-b1d0-bc220ce45a9f",
   "metadata": {},
   "outputs": [
    {
     "data": {
      "text/plain": [
       "(array([10,  6,  4,  0,  2,  9,  5,  3,  7,  1,  8]), dtype('int64'))"
      ]
     },
     "execution_count": 10,
     "metadata": {},
     "output_type": "execute_result"
    }
   ],
   "source": [
    "loan_dataset['emp_length_int'] = pd.to_numeric(loan_dataset['emp_length_int']) # converting string to numeric value.\n",
    "loan_dataset['emp_length_int'].unique(), loan_dataset['emp_length_int'].dtype "
   ]
  },
  {
   "cell_type": "markdown",
   "id": "3ec0d32d-8cf5-40cf-a82e-1991806f6586",
   "metadata": {},
   "source": [
    "- ### **term**"
   ]
  },
  {
   "cell_type": "code",
   "execution_count": 11,
   "id": "6da530c2-15c1-41aa-907b-6203d158edd0",
   "metadata": {},
   "outputs": [
    {
     "data": {
      "text/plain": [
       "array([' 36 months', ' 60 months'], dtype=object)"
      ]
     },
     "execution_count": 11,
     "metadata": {},
     "output_type": "execute_result"
    }
   ],
   "source": [
    "loan_dataset['term'].unique() # The values are in months."
   ]
  },
  {
   "cell_type": "code",
   "execution_count": 12,
   "id": "fb223e09-4703-493c-8eac-ce3f867a0ae6",
   "metadata": {},
   "outputs": [
    {
     "data": {
      "text/plain": [
       "(array([36, 60]), dtype('int64'))"
      ]
     },
     "execution_count": 12,
     "metadata": {},
     "output_type": "execute_result"
    }
   ],
   "source": [
    "loan_dataset['term_int'] = loan_dataset['term'].str.replace(' 36 months', '36')\n",
    "loan_dataset['term_int'] = loan_dataset['term_int'].str.replace(' 60 months', '60')\n",
    "loan_dataset['term_int'] = pd.to_numeric(loan_dataset['term_int']) # converting string to numeric value.\n",
    "loan_dataset['term_int'].unique(), loan_dataset['term_int'].dtype "
   ]
  },
  {
   "cell_type": "markdown",
   "id": "d63a007d-c591-4d69-a9b2-84b0a85b4211",
   "metadata": {},
   "source": [
    "- ### **earliest_cr_line**"
   ]
  },
  {
   "cell_type": "code",
   "execution_count": 13,
   "id": "a50eadb4-3317-4f02-a508-03663848f56c",
   "metadata": {
    "scrolled": true
   },
   "outputs": [
    {
     "data": {
      "text/plain": [
       "array(['Apr-2001', 'Jun-1987', 'Apr-2011', 'Feb-2006', 'Dec-2000',\n",
       "       'Sep-2002', 'Nov-2004', 'Nov-1997', 'Aug-1998', 'Apr-2002',\n",
       "       'May-2007', 'Dec-2003', 'Jun-2003', 'Oct-2008', 'Jul-1990',\n",
       "       'Dec-1988', 'Dec-2002', 'Oct-2010', 'Jul-2005', 'Feb-2001',\n",
       "       'Dec-2004', 'Oct-2001', 'Sep-2003', 'Oct-2004', 'Sep-2010',\n",
       "       'Oct-1999', 'Feb-1997', 'Jan-1995', 'Aug-2005', 'Apr-2005',\n",
       "       'Oct-2005', 'Nov-2006', 'Sep-1999', 'Sep-2006', 'Aug-1996',\n",
       "       'May-2015', 'Nov-1999', 'Dec-1998', 'Aug-1989', 'Apr-2012',\n",
       "       'Sep-2012', 'Jan-2011', 'Jul-2013', 'Sep-2011', 'Aug-1999',\n",
       "       'Dec-1991', 'Nov-2007', 'Oct-2007', 'Jul-1986', 'Nov-2014',\n",
       "       'Apr-1995', 'Jul-1992', 'Aug-2006', 'Oct-1988', 'Feb-2005',\n",
       "       'Aug-2002', 'Oct-2003', 'Apr-2004', 'Jun-2007', 'Aug-1990',\n",
       "       'Dec-1990', 'Jul-1997', 'Sep-1988', 'Sep-2008', 'Feb-1999',\n",
       "       'Apr-2007', 'Aug-2004', 'Dec-2006', 'Mar-2007', 'Oct-2006',\n",
       "       'Jul-2014', 'May-2005', 'Jun-1995', 'Mar-2014', 'Feb-2003',\n",
       "       'Aug-2007', 'Jul-1996', 'Jan-1991', 'Aug-2008', 'Dec-2007',\n",
       "       'Sep-1997', 'Jan-2000', 'Jan-2005', 'Feb-2007', 'Dec-2005',\n",
       "       'Jan-2012', 'Dec-1997', 'Mar-2009', 'Apr-1989', 'Jun-2006',\n",
       "       'Jan-2014', 'Jun-2009', 'May-1975', 'Apr-2014', 'Oct-1996',\n",
       "       'Mar-1999', 'Dec-1994', 'Jan-2008', 'Jul-1999', 'Feb-2014',\n",
       "       'Oct-2000', 'Aug-2010', 'Mar-1993', 'May-2009', 'Aug-1993',\n",
       "       'May-1998', 'Sep-1998', 'Aug-2011', 'Nov-1984', 'Apr-2000',\n",
       "       'Apr-2003', 'May-2003', 'Feb-1996', 'Jan-1996', 'Mar-2005',\n",
       "       'Aug-2001', 'Oct-2011', 'Mar-1974', 'Jul-2007', 'Feb-1998',\n",
       "       'Jan-2006', 'Mar-2006', 'Aug-2003', 'May-2004', 'Nov-2013',\n",
       "       'Jan-2009', 'Jan-2002', 'Sep-1984', 'Jul-2010', 'Mar-1998',\n",
       "       'Jun-1991', 'Sep-1996', 'Sep-1991', 'Mar-1991', 'Apr-1999',\n",
       "       'Aug-2009', 'Nov-2001', 'Apr-2006', 'Dec-2009', 'Nov-1986',\n",
       "       'Jan-2004', 'Nov-2002', 'Sep-1994', 'Mar-2000', 'Jun-2015',\n",
       "       'Apr-2013', 'Sep-2000', 'Jun-1979', 'Dec-1989', 'Oct-1997',\n",
       "       'Aug-2000', 'Aug-1987', 'Jul-1991', 'Apr-1988', 'Oct-2014',\n",
       "       'Jul-2002', 'Sep-2009', 'May-2010', 'Sep-1985', 'Feb-1991',\n",
       "       'Nov-2003', 'Mar-2010', 'Jul-1995', 'Oct-1994', 'Jul-1987',\n",
       "       'Oct-2009', 'Jan-1997', 'Oct-1993', 'Aug-1992', 'Sep-2005',\n",
       "       'Jan-2001', 'Jul-1983', 'Jul-2003', 'Nov-2000', 'Jun-1998',\n",
       "       'Aug-2013', 'Apr-2009', 'Jul-2004', 'Nov-2005', 'Apr-1998',\n",
       "       'Nov-1993', 'Oct-1991', 'Jun-2004', 'Jun-2008', 'Jan-1993',\n",
       "       'Mar-2003', 'Mar-2011', 'Jun-2000', 'Mar-2004', 'Feb-2008',\n",
       "       'May-1973', 'May-2008', 'Jan-2003', 'Mar-2002', 'Aug-1997',\n",
       "       'Feb-2009', 'Feb-2004', 'Apr-1993', 'Dec-1995', 'Dec-2008',\n",
       "       'Jan-1990', 'Mar-2012', 'Mar-1987', 'Jun-2011', 'Feb-2011',\n",
       "       'Jan-2015', 'Jun-2005', 'Mar-2001', 'Jun-1999', 'Mar-1979',\n",
       "       'Jan-1998', 'May-2000', 'Dec-2001', 'May-2002', 'Oct-2002',\n",
       "       'Sep-2001', 'Jun-1981', 'May-1994', 'Mar-2015', 'Jan-1994',\n",
       "       'Jul-2015', 'Sep-2007', 'Aug-2012', 'Feb-1989', 'Jun-2012',\n",
       "       'Aug-1972', 'Nov-2011', 'Feb-2015', 'Oct-1992', 'Apr-1994',\n",
       "       'Feb-1985', 'May-2001', 'Jul-2008', 'Dec-1996', 'Jan-1987',\n",
       "       'May-1995', 'Mar-1996', 'Nov-2009', 'Jul-1998', 'Jan-1988',\n",
       "       'Jun-1988', 'Apr-1984', 'May-1991', 'Dec-2014', 'Nov-1996',\n",
       "       'Apr-1978', 'Jul-2009', 'Jun-1970', 'Jun-1990', 'Mar-2008',\n",
       "       'Jul-2001', 'Oct-1995', 'May-2006', 'Feb-2002', 'Jan-2007',\n",
       "       'Jul-2006', 'Jul-2000', 'Mar-1990', 'Dec-2012', 'Jun-2014',\n",
       "       'Jul-2012', 'Jun-1994', 'Feb-2000', 'Nov-1988', 'Oct-1987',\n",
       "       'Nov-1991', 'Feb-1982', 'Apr-1991', 'Sep-2004', 'Nov-1998',\n",
       "       'Nov-1983', 'Nov-1994', 'Dec-1972', 'Nov-1995', 'Nov-1992',\n",
       "       'May-2014', 'May-1997', 'Jun-1989', 'Oct-2015', 'Apr-1986',\n",
       "       'May-1993', 'Mar-1994', 'Jan-1999', 'Oct-1998', 'Jun-2013',\n",
       "       'Mar-1995', 'Feb-2012', 'Sep-1993', 'Sep-1989', 'Feb-1993',\n",
       "       'Jun-1982', 'Aug-1995', 'Nov-2012', 'Aug-1986', 'Dec-2011',\n",
       "       'Oct-2013', 'May-2011', 'Jan-1980', 'Mar-1988', 'Aug-1985',\n",
       "       'May-1996', 'Nov-1978', 'Dec-2013', 'May-1985', 'Nov-1982',\n",
       "       'Mar-2013', 'Jun-1986', 'Jun-1992', 'Oct-1985', 'May-2012',\n",
       "       'May-1987', 'Dec-2010', 'Nov-2008', 'May-1984', 'Nov-2010',\n",
       "       'Jun-1993', 'Dec-1993', 'Feb-1990', 'Apr-2008', 'Sep-1995',\n",
       "       'Jun-2010', 'Jul-2011', 'Feb-1994', 'Jun-2002', 'Jul-1993',\n",
       "       'Dec-1992', 'Oct-1986', 'Aug-1984', 'Sep-2013', 'May-1982',\n",
       "       'Mar-1997', 'Jul-1989', 'Apr-1990', 'Jul-1985', 'Aug-2014',\n",
       "       'Dec-1982', 'Feb-2010', 'Oct-2012', 'May-1986', 'Jul-1994',\n",
       "       'Aug-1994', 'Jul-1988', 'Apr-1985', 'Feb-2013', 'Mar-1989',\n",
       "       'Apr-1997', 'Dec-1987', 'Jul-1979', 'Dec-1999', 'May-1988',\n",
       "       'Dec-1986', 'Jun-2001', 'May-1999', 'Jun-1996', 'Mar-1983',\n",
       "       'Aug-2015', 'Feb-1987', 'Feb-1983', 'Nov-1989', 'Apr-1992',\n",
       "       'Jul-1981', 'Feb-1981', 'Jan-2010', 'May-1989', 'Sep-1978',\n",
       "       'Aug-1975', 'Jun-1997', 'Apr-1983', 'Aug-1988', 'Dec-1984',\n",
       "       'Aug-1991', 'May-2013', 'Jan-1979', 'Jan-1985', 'Aug-1978',\n",
       "       'Dec-1978', 'Nov-1970', 'Apr-1987', 'Sep-1986', 'Apr-1996',\n",
       "       'May-1977', 'Oct-1989', 'Aug-1982', 'Sep-1981', 'May-1983',\n",
       "       'Jul-1984', 'Sep-2015', 'Nov-1981', 'Jan-2013', 'Sep-1982',\n",
       "       'Oct-1977', 'Feb-1979', 'Nov-1979', 'Oct-1984', 'Feb-1977',\n",
       "       'Jul-1978', 'Dec-1981', 'Sep-2014', 'Sep-1972', 'Jul-1971',\n",
       "       'Nov-1977', 'Nov-1965', 'Mar-1978', 'Jan-1982', 'Mar-1992',\n",
       "       'Sep-1973', 'Mar-1984', 'Dec-1977', 'Sep-1980', 'Oct-1990',\n",
       "       'Mar-1981', 'Dec-1985', 'Oct-1982', 'Nov-1985', 'Oct-1974',\n",
       "       'Sep-1992', 'Feb-1995', 'Nov-1990', 'Apr-1980', 'Apr-2015',\n",
       "       'Jan-1975', 'May-1974', 'Sep-1990', 'May-1990', 'Nov-1987',\n",
       "       'Jun-1976', 'Oct-1983', 'Aug-1980', 'Jan-1986', 'Feb-1973',\n",
       "       'Feb-1986', 'Apr-1976', 'Dec-1971', 'Jan-1992', 'Feb-1971',\n",
       "       'Jun-1985', 'Feb-1976', 'Jan-1970', 'Oct-1975', 'Apr-1979',\n",
       "       'Jun-1983', 'Sep-1987', 'Oct-1980', 'Feb-1978', 'Jul-1980',\n",
       "       'May-1992', 'Jan-1984', 'Oct-1978', 'Mar-1985', 'May-1969',\n",
       "       'Nov-1980', 'Mar-1975', 'Dec-1980', 'Aug-1976', 'Jul-1977',\n",
       "       'Nov-1968', 'Sep-1983', 'Jun-1984', 'Nov-1976', 'Mar-1976',\n",
       "       'Apr-2010', 'Feb-1984', 'May-1976', 'Mar-1970', 'Mar-1977',\n",
       "       'Feb-1988', 'Dec-1979', 'Feb-1992', 'Oct-1981', 'Apr-1982',\n",
       "       'Jan-1989', 'May-1978', 'Oct-1969', 'Apr-1962', 'May-1961',\n",
       "       'Aug-1977', 'Apr-1981', 'Dec-1983', 'Nov-1975', 'Apr-1977',\n",
       "       'Jul-1976', 'Jul-1982', 'Nov-2015', 'Oct-1976', 'Jul-1967',\n",
       "       'Jun-1972', 'Mar-1986', 'Jun-1967', 'May-1979', 'Mar-1980',\n",
       "       'Aug-1971', 'May-1981', 'Jan-1983', 'Sep-1979', 'Jan-1977',\n",
       "       'Mar-1982', 'Jun-1977', 'Jan-1981', 'Jan-1978', 'Jan-1973',\n",
       "       'Mar-1971', 'May-1964', 'Feb-1980', 'Jul-1974', 'May-1965',\n",
       "       'Jul-1973', 'Aug-1973', 'Aug-1981', 'Sep-1971', 'Jun-1978',\n",
       "       'Jan-1974', 'Aug-1974', 'Jan-1967', 'Apr-1975', 'Sep-1970',\n",
       "       'Jun-1965', 'Mar-1973', 'Sep-1976', 'Apr-1971', 'Nov-1974',\n",
       "       'Dec-1968', 'Dec-1976', 'Feb-1966', 'May-1980', 'Aug-1979',\n",
       "       'Apr-1963', 'Oct-1970', 'Jan-1976', 'Sep-1977', 'Sep-1974',\n",
       "       'Jan-1954', 'Apr-1973', 'Jan-1969', 'Jun-1980', 'Aug-1983',\n",
       "       'Jan-1968', 'Aug-1969', 'Dec-1975', 'Jul-1975', 'Jan-1971',\n",
       "       'Jul-1968', 'Nov-1973', 'Jan-1950', 'Apr-1972', 'Jun-1974',\n",
       "       'Jul-1950', 'Apr-1968', 'Jan-1963', 'Nov-1966', 'Oct-1972',\n",
       "       'Dec-1967', 'Aug-1966', 'Mar-1972', 'May-1972', 'Sep-1964',\n",
       "       'Feb-1972', 'Dec-1973', 'Jan-1958', 'Oct-1973', 'Feb-1963',\n",
       "       'Aug-1967', 'Oct-1965', 'Feb-1970', 'Oct-1979', 'Jan-1972',\n",
       "       'Feb-1974', 'Feb-1969', 'Apr-1964', 'Sep-1975', 'Aug-1970',\n",
       "       'Jul-1965', 'Dec-1970', 'May-1971', 'Apr-1965', 'Jan-1956',\n",
       "       'Apr-1970', 'Sep-1965', 'Mar-1965', 'Dec-1974', 'Dec-1966',\n",
       "       'Jan-1965', 'Jan-1960', 'Nov-1959', 'May-1968', 'Jun-1975',\n",
       "       'Jun-1969', 'Jan-1962', 'May-1970', 'Apr-1974', 'Feb-1967',\n",
       "       'Aug-1968', 'Sep-1969', 'Apr-1969', 'Mar-1962', 'Jun-1973',\n",
       "       'Oct-1961', 'Apr-1967', 'Oct-1964', 'Jan-1959', 'Dec-1969',\n",
       "       'Jun-1964', 'Mar-1968', 'Mar-1969', 'Sep-1967', 'Mar-1967',\n",
       "       'Jul-1969', 'May-1967', 'Nov-1971', 'Nov-1972', 'Jan-1961',\n",
       "       'Feb-1962', 'Jun-1968', 'Feb-1975', 'Jul-1966', 'Dec-1964',\n",
       "       'Sep-1966', 'Sep-1963', 'Aug-1962', 'Jan-1966', 'Oct-1968',\n",
       "       'Nov-1964', 'Mar-1954', 'Aug-1963', 'Nov-1967', 'Jan-1964',\n",
       "       'Jul-1964', 'Sep-1968', 'Jun-1971', 'Oct-1971', 'Dec-1965',\n",
       "       'Oct-1966', 'Jul-1972', 'Feb-1965', 'Jun-1966', 'Aug-1964',\n",
       "       'Jul-1970', 'Apr-1966', 'May-1966', 'Sep-1962', 'Oct-1967',\n",
       "       'Apr-1960', 'Jun-1963', 'Nov-1969', 'Dec-1962', 'Feb-1968',\n",
       "       'Jan-1951', 'Mar-1966', 'Jun-1962', 'Dec-1963', 'Aug-1965',\n",
       "       'Jan-1957', 'Dec-1961', 'Jul-1961', 'Dec-1947', 'Apr-1957',\n",
       "       'Mar-1964', 'Mar-1959', 'Jan-1955', 'Jun-1958', 'Feb-1964',\n",
       "       'Apr-1959', 'Nov-1963', 'Aug-1959', 'May-1963', 'Nov-1961',\n",
       "       'Jun-1960', 'Mar-1963', 'Jul-1960', 'Oct-1963', 'Dec-1960',\n",
       "       'Sep-1961', 'Jun-1961', 'Aug-1958', 'Apr-1955', 'May-1960',\n",
       "       'Oct-1962', 'Dec-1959', 'Jun-1956', 'Feb-1961', 'Jul-1963',\n",
       "       'Feb-1958', 'Jun-1959', 'Jan-1953', 'Jul-1962', 'Aug-1941',\n",
       "       'Mar-1961', 'Dec-1946', 'Aug-1961', 'May-1962', 'Feb-1960',\n",
       "       'Mar-1933', 'Nov-1957', 'Jun-1952', 'Jun-1957', 'May-1958',\n",
       "       'Nov-1962', 'Aug-1960', 'Mar-1955', 'May-1959', 'Feb-1945',\n",
       "       'Jan-1948', 'Jul-1959', 'Nov-1960', 'Mar-1957', 'Jul-1952',\n",
       "       'Jan-1952', 'Apr-1958', 'Jul-1951', 'Apr-1961', 'Dec-1958',\n",
       "       'Oct-1958', 'Feb-1959', 'Oct-1959', 'Jun-1955', 'Sep-1953',\n",
       "       'Nov-1956', 'Mar-1958', 'May-1955', 'Mar-1960', 'Aug-1951',\n",
       "       'Sep-1959', 'Nov-1958', 'Sep-1956', 'May-1957', 'Dec-1956',\n",
       "       'Jul-1958', 'Sep-1960', 'Oct-1960', 'Aug-1950', 'Aug-1955',\n",
       "       'Jan-1944', 'Nov-1952', 'Aug-1953', 'Apr-1934', 'Sep-1951',\n",
       "       'Feb-1934', 'Aug-1957', 'Oct-1957', 'Nov-1953', 'Jul-1955',\n",
       "       'May-1953', 'Nov-1950', 'Nov-1955', 'Feb-1957', 'Dec-1951',\n",
       "       'Aug-1946', 'Nov-1954', 'Sep-1957', 'Jun-1949', 'Oct-1950',\n",
       "       'May-1950', 'Oct-1954', 'Jan-1946', 'Dec-1950', nan], dtype=object)"
      ]
     },
     "execution_count": 13,
     "metadata": {},
     "output_type": "execute_result"
    }
   ],
   "source": [
    "loan_dataset['earliest_cr_line'].unique()"
   ]
  },
  {
   "cell_type": "code",
   "execution_count": 14,
   "id": "245cc056-2b23-46d7-83ea-7036881552e4",
   "metadata": {},
   "outputs": [],
   "source": [
    "# loan_dataset.loc[loan_dataset['earliest_cr_line'].isna()] # records where earliest cr_line is NAN."
   ]
  },
  {
   "cell_type": "code",
   "execution_count": 15,
   "id": "b59d953b-d38c-45c2-b606-c04f4f371cfe",
   "metadata": {},
   "outputs": [
    {
     "data": {
      "text/plain": [
       "(2260668, np.int64(29))"
      ]
     },
     "execution_count": 15,
     "metadata": {},
     "output_type": "execute_result"
    }
   ],
   "source": [
    "# Counting the records where 'earliest_cr_line' is NA.\n",
    "\n",
    "nan_count = loan_dataset['earliest_cr_line'].isna().sum() # to get nan count\n",
    "len(loan_dataset), nan_count # So, we have 29 records where earliest_cr_line is not given."
   ]
  },
  {
   "cell_type": "code",
   "execution_count": 16,
   "id": "0625f60e-6db6-4bb1-83ae-508edd224d1a",
   "metadata": {},
   "outputs": [
    {
     "data": {
      "text/plain": [
       "str"
      ]
     },
     "execution_count": 16,
     "metadata": {},
     "output_type": "execute_result"
    }
   ],
   "source": [
    "type(loan_dataset['earliest_cr_line'][0]) # The values are store as objects (strings). So, we need to change them into time stamps."
   ]
  },
  {
   "cell_type": "code",
   "execution_count": 17,
   "id": "9cc34cfb-5848-4c3e-9f15-6e8b3b8e2dbf",
   "metadata": {},
   "outputs": [],
   "source": [
    "loan_dataset['earliest_cr_line_timestamp'] = pd.to_datetime(loan_dataset['earliest_cr_line'], format='%b-%Y') "
   ]
  },
  {
   "cell_type": "markdown",
   "id": "bfe500e4-a841-403a-8137-7817485c1048",
   "metadata": {},
   "source": [
    "###  **Format Breakdown**\n",
    "> %b — Abbreviated month name (e.g., Jan, Feb, ..., Dec)\n",
    "> \n",
    "> %Y — Four-digit year"
   ]
  },
  {
   "cell_type": "code",
   "execution_count": 18,
   "id": "edbce750-c10e-46f2-8c70-219a8f66d61d",
   "metadata": {},
   "outputs": [
    {
     "data": {
      "text/plain": [
       "pandas._libs.tslibs.timestamps.Timestamp"
      ]
     },
     "execution_count": 18,
     "metadata": {},
     "output_type": "execute_result"
    }
   ],
   "source": [
    "type(loan_dataset['earliest_cr_line_timestamp'][0])"
   ]
  },
  {
   "cell_type": "code",
   "execution_count": 19,
   "id": "5ca42d82-de7e-4fa3-9e74-4e74101413cc",
   "metadata": {},
   "outputs": [
    {
     "data": {
      "text/plain": [
       "Timestamp('2001-04-01 00:00:00')"
      ]
     },
     "execution_count": 19,
     "metadata": {},
     "output_type": "execute_result"
    }
   ],
   "source": [
    "'''Note:- Pandas needs to assign some default day value to construct a full datetime object (YYYY-MM-DD) and if the day\n",
    "          is not provided in the string, it assumes the first day of the month.'''\n",
    "\n",
    "loan_dataset['earliest_cr_line_timestamp'][0]"
   ]
  },
  {
   "cell_type": "markdown",
   "id": "496b7215-2e77-4349-999f-35b2d1e09f82",
   "metadata": {},
   "source": [
    "### Now, we have the dates on which the earliest credit lines were issued. However, for a credit risk model, what we actually need is the time that has passed since the earliest credit line was issued. To calculate this, we should define a reference date. Typically **current date** is set as the reference date."
   ]
  },
  {
   "cell_type": "code",
   "execution_count": 20,
   "id": "01e86c46-7781-45d4-9243-a2a4a6e86923",
   "metadata": {},
   "outputs": [],
   "source": [
    "# Example reference date\n",
    "reference_date = pd.to_datetime('2025-07-30') # We could have also used \"pd.to_datetime('today')\", but fixing date for reproducability."
   ]
  },
  {
   "cell_type": "code",
   "execution_count": 21,
   "id": "54c1d4fc-d6ed-4889-a744-c6e4a4578445",
   "metadata": {},
   "outputs": [
    {
     "data": {
      "text/plain": [
       "relativedelta(years=+24, months=+3, days=+29)"
      ]
     },
     "execution_count": 21,
     "metadata": {},
     "output_type": "execute_result"
    }
   ],
   "source": [
    "# relativedelta returns the difference between two timestamps in years, months, and days.\n",
    "\n",
    "rd = relativedelta(pd.to_datetime('2025-07-30'), pd.to_datetime('2001-04-01'))\n",
    "rd"
   ]
  },
  {
   "cell_type": "code",
   "execution_count": 22,
   "id": "76c04d62-e681-4996-804c-715e59db8972",
   "metadata": {},
   "outputs": [
    {
     "data": {
      "text/plain": [
       "(24, 3, 29)"
      ]
     },
     "execution_count": 22,
     "metadata": {},
     "output_type": "execute_result"
    }
   ],
   "source": [
    "# They can be accessed like\n",
    "\n",
    "rd.years, rd.months, rd.days"
   ]
  },
  {
   "cell_type": "code",
   "execution_count": 23,
   "id": "432b6c80-7151-432f-8dd3-7a9ca3aa8b4b",
   "metadata": {},
   "outputs": [],
   "source": [
    "# Apply to our dataframe column\n",
    "loan_dataset['months_since_earliest_cr_line'] = loan_dataset['earliest_cr_line_timestamp'].apply(lambda x: months_between(x, reference_date))"
   ]
  },
  {
   "cell_type": "code",
   "execution_count": 24,
   "id": "274ebc1f-cb8f-4526-a0db-0b30e6fc580b",
   "metadata": {},
   "outputs": [
    {
     "data": {
      "text/plain": [
       "count    2.260668e+06\n",
       "mean     3.076852e+02\n",
       "std      9.417307e+01\n",
       "min      0.000000e+00\n",
       "25%      2.430000e+02\n",
       "50%      2.920000e+02\n",
       "75%      3.570000e+02\n",
       "max      1.109000e+03\n",
       "Name: months_since_earliest_cr_line, dtype: float64"
      ]
     },
     "execution_count": 24,
     "metadata": {},
     "output_type": "execute_result"
    }
   ],
   "source": [
    "loan_dataset['months_since_earliest_cr_line'].describe()"
   ]
  },
  {
   "cell_type": "markdown",
   "id": "fc073b37-3730-4edf-b755-7b50c7dbf514",
   "metadata": {},
   "source": [
    "- ### **issue_d**"
   ]
  },
  {
   "cell_type": "code",
   "execution_count": 25,
   "id": "bc7eac81-4584-4255-be1e-0c9c81edacfb",
   "metadata": {},
   "outputs": [
    {
     "data": {
      "text/plain": [
       "array(['Dec-2018', 'Nov-2018', 'Oct-2018', 'Sep-2018', 'Aug-2018',\n",
       "       'Jul-2018', 'Jun-2018', 'May-2018', 'Apr-2018', 'Mar-2018',\n",
       "       'Feb-2018', 'Jan-2018', 'Sep-2016', 'Aug-2016', 'Jul-2016',\n",
       "       'Jun-2016', 'May-2016', 'Apr-2016', 'Mar-2016', 'Feb-2016',\n",
       "       'Jan-2016', 'Dec-2016', 'Nov-2016', 'Oct-2016', 'Dec-2015',\n",
       "       'Nov-2015', 'Oct-2015', 'Sep-2015', 'Aug-2015', 'Jul-2015',\n",
       "       'Jun-2015', 'May-2015', 'Apr-2015', 'Mar-2015', 'Feb-2015',\n",
       "       'Jan-2015', 'Mar-2017', 'Feb-2017', 'Jan-2017', 'Sep-2017',\n",
       "       'Aug-2017', 'Jul-2017', 'Jun-2017', 'May-2017', 'Apr-2017',\n",
       "       'Dec-2013', 'Nov-2013', 'Oct-2013', 'Sep-2013', 'Aug-2013',\n",
       "       'Jul-2013', 'Jun-2013', 'May-2013', 'Apr-2013', 'Mar-2013',\n",
       "       'Feb-2013', 'Jan-2013', 'Dec-2012', 'Nov-2012', 'Oct-2012',\n",
       "       'Sep-2012', 'Aug-2012', 'Jul-2012', 'Jun-2012', 'May-2012',\n",
       "       'Apr-2012', 'Mar-2012', 'Feb-2012', 'Jan-2012', 'Dec-2014',\n",
       "       'Nov-2014', 'Oct-2014', 'Sep-2014', 'Aug-2014', 'Jul-2014',\n",
       "       'Jun-2014', 'May-2014', 'Apr-2014', 'Mar-2014', 'Feb-2014',\n",
       "       'Jan-2014', 'Dec-2011', 'Nov-2011', 'Oct-2011', 'Sep-2011',\n",
       "       'Aug-2011', 'Jul-2011', 'Jun-2011', 'May-2011', 'Apr-2011',\n",
       "       'Mar-2011', 'Feb-2011', 'Jan-2011', 'Dec-2010', 'Nov-2010',\n",
       "       'Oct-2010', 'Sep-2010', 'Aug-2010', 'Jul-2010', 'Jun-2010',\n",
       "       'May-2010', 'Apr-2010', 'Mar-2010', 'Feb-2010', 'Jan-2010',\n",
       "       'Dec-2009', 'Nov-2009', 'Oct-2009', 'Sep-2009', 'Aug-2009',\n",
       "       'Jul-2009', 'Jun-2009', 'May-2009', 'Apr-2009', 'Mar-2009',\n",
       "       'Feb-2009', 'Jan-2009', 'Dec-2008', 'Nov-2008', 'Oct-2008',\n",
       "       'Sep-2008', 'Aug-2008', 'Jul-2008', 'Jun-2008', 'May-2008',\n",
       "       'Apr-2008', 'Mar-2008', 'Feb-2008', 'Jan-2008', 'Dec-2007',\n",
       "       'Nov-2007', 'Oct-2007', 'Sep-2007', 'Aug-2007', 'Jul-2007',\n",
       "       'Jun-2007', 'Dec-2017', 'Nov-2017', 'Oct-2017'], dtype=object)"
      ]
     },
     "execution_count": 25,
     "metadata": {},
     "output_type": "execute_result"
    }
   ],
   "source": [
    "loan_dataset['issue_d'].unique()"
   ]
  },
  {
   "cell_type": "markdown",
   "id": "591cce69-0e0c-4099-9e51-661e5588eec2",
   "metadata": {},
   "source": [
    "> ### **Note:** There are **0** NAN values."
   ]
  },
  {
   "cell_type": "code",
   "execution_count": 26,
   "id": "855c6c6c-0814-4cca-8e64-5b3a4eadead3",
   "metadata": {},
   "outputs": [
    {
     "data": {
      "text/plain": [
       "count    2.260668e+06\n",
       "mean     1.109544e+02\n",
       "std      2.161178e+01\n",
       "min      8.000000e+01\n",
       "25%      9.300000e+01\n",
       "50%      1.090000e+02\n",
       "75%      1.240000e+02\n",
       "max      2.180000e+02\n",
       "Name: months_since_issue_date, dtype: float64"
      ]
     },
     "execution_count": 26,
     "metadata": {},
     "output_type": "execute_result"
    }
   ],
   "source": [
    "# reference date was set to '2025-07-30'.\n",
    "loan_dataset['issue_d_timestamp'] = pd.to_datetime(loan_dataset['issue_d'], format='%b-%Y') # converting to month and year format.\n",
    "loan_dataset['months_since_issue_date'] = loan_dataset['issue_d_timestamp'].apply(lambda x: months_between(x, reference_date))\n",
    "loan_dataset['months_since_issue_date'].describe()"
   ]
  },
  {
   "cell_type": "markdown",
   "id": "fbcd5067-a2d0-46af-8e55-2169f1816e69",
   "metadata": {},
   "source": [
    "## **Missing values**"
   ]
  },
  {
   "cell_type": "code",
   "execution_count": 27,
   "id": "1c265bee-226f-4266-a33f-ad243d44468f",
   "metadata": {
    "scrolled": true
   },
   "outputs": [
    {
     "data": {
      "text/plain": [
       "funded_amnt                                         0\n",
       "term                                                0\n",
       "int_rate                                            0\n",
       "installment                                         0\n",
       "grade                                               0\n",
       "sub_grade                                           0\n",
       "emp_title                                      166969\n",
       "emp_length                                     146907\n",
       "home_ownership                                      0\n",
       "annual_inc                                          4\n",
       "verification_status                                 0\n",
       "issue_d                                             0\n",
       "loan_status                                         0\n",
       "pymnt_plan                                          0\n",
       "desc                                          2134603\n",
       "purpose                                             0\n",
       "title                                           23326\n",
       "zip_code                                            1\n",
       "addr_state                                          0\n",
       "dti                                              1711\n",
       "delinq_2yrs                                        29\n",
       "earliest_cr_line                                   29\n",
       "inq_last_6mths                                     30\n",
       "mths_since_last_delinq                        1158502\n",
       "mths_since_last_record                        1901512\n",
       "open_acc                                           29\n",
       "pub_rec                                            29\n",
       "revol_bal                                           0\n",
       "revol_util                                       1802\n",
       "total_acc                                          29\n",
       "initial_list_status                                 0\n",
       "out_prncp                                           0\n",
       "out_prncp_inv                                       0\n",
       "total_pymnt                                         0\n",
       "total_pymnt_inv                                     0\n",
       "total_rec_prncp                                     0\n",
       "total_rec_int                                       0\n",
       "total_rec_late_fee                                  0\n",
       "recoveries                                          0\n",
       "collection_recovery_fee                             0\n",
       "last_pymnt_d                                     2426\n",
       "last_pymnt_amnt                                     0\n",
       "next_pymnt_d                                  1303607\n",
       "last_credit_pull_d                                 73\n",
       "collections_12_mths_ex_med                        145\n",
       "mths_since_last_major_derog                   1679893\n",
       "policy_code                                         0\n",
       "application_type                                    0\n",
       "annual_inc_joint                              2139958\n",
       "dti_joint                                     2139962\n",
       "verification_status_joint                     2144938\n",
       "acc_now_delinq                                     29\n",
       "tot_coll_amt                                    70276\n",
       "tot_cur_bal                                     70276\n",
       "open_acc_6m                                    866130\n",
       "open_act_il                                    866129\n",
       "open_il_12m                                    866129\n",
       "open_il_24m                                    866129\n",
       "mths_since_rcnt_il                             909924\n",
       "total_bal_il                                   866129\n",
       "il_util                                       1068850\n",
       "open_rv_12m                                    866129\n",
       "open_rv_24m                                    866129\n",
       "max_bal_bc                                     866129\n",
       "all_util                                       866348\n",
       "total_rev_hi_lim                                70276\n",
       "inq_fi                                         866129\n",
       "total_cu_tl                                    866130\n",
       "inq_last_12m                                   866130\n",
       "acc_open_past_24mths                            50030\n",
       "avg_cur_bal                                     70346\n",
       "bc_open_to_buy                                  74935\n",
       "bc_util                                         76071\n",
       "chargeoff_within_12_mths                          145\n",
       "delinq_amnt                                        29\n",
       "mo_sin_old_il_acct                             139071\n",
       "mo_sin_old_rev_tl_op                            70277\n",
       "mo_sin_rcnt_rev_tl_op                           70277\n",
       "mo_sin_rcnt_tl                                  70276\n",
       "mort_acc                                        50030\n",
       "mths_since_recent_bc                            73412\n",
       "mths_since_recent_bc_dlq                      1740967\n",
       "mths_since_recent_inq                          295435\n",
       "mths_since_recent_revol_delinq                1520309\n",
       "num_accts_ever_120_pd                           70276\n",
       "num_actv_bc_tl                                  70276\n",
       "num_actv_rev_tl                                 70276\n",
       "num_bc_sats                                     58590\n",
       "num_bc_tl                                       70276\n",
       "num_il_tl                                       70276\n",
       "num_op_rev_tl                                   70276\n",
       "num_rev_accts                                   70277\n",
       "num_rev_tl_bal_gt_0                             70276\n",
       "num_sats                                        58590\n",
       "num_tl_120dpd_2m                               153657\n",
       "num_tl_30dpd                                    70276\n",
       "num_tl_90g_dpd_24m                              70276\n",
       "num_tl_op_past_12m                              70276\n",
       "pct_tl_nvr_dlq                                  70431\n",
       "percent_bc_gt_75                                75379\n",
       "pub_rec_bankruptcies                             1365\n",
       "tax_liens                                         105\n",
       "tot_hi_cred_lim                                 70276\n",
       "total_bal_ex_mort                               50030\n",
       "total_bc_limit                                  50030\n",
       "total_il_high_credit_limit                      70276\n",
       "revol_bal_joint                               2152648\n",
       "sec_app_earliest_cr_line                      2152647\n",
       "sec_app_inq_last_6mths                        2152647\n",
       "sec_app_mort_acc                              2152647\n",
       "sec_app_open_acc                              2152647\n",
       "sec_app_revol_util                            2154484\n",
       "sec_app_open_act_il                           2152647\n",
       "sec_app_num_rev_accts                         2152647\n",
       "sec_app_chargeoff_within_12_mths              2152647\n",
       "sec_app_collections_12_mths_ex_med            2152647\n",
       "sec_app_mths_since_last_major_derog           2224726\n",
       "hardship_flag                                       0\n",
       "hardship_type                                 2250055\n",
       "hardship_reason                               2250055\n",
       "hardship_status                               2250055\n",
       "deferral_term                                 2250055\n",
       "hardship_amount                               2250055\n",
       "hardship_start_date                           2250055\n",
       "hardship_end_date                             2250055\n",
       "payment_plan_start_date                       2250055\n",
       "hardship_length                               2250055\n",
       "hardship_dpd                                  2250055\n",
       "hardship_loan_status                          2250055\n",
       "orig_projected_additional_accrued_interest    2252242\n",
       "hardship_payoff_balance_amount                2250055\n",
       "hardship_last_payment_amount                  2250055\n",
       "disbursement_method                                 0\n",
       "debt_settlement_flag                                0\n",
       "debt_settlement_flag_date                     2227612\n",
       "settlement_status                             2227612\n",
       "settlement_date                               2227612\n",
       "settlement_amount                             2227612\n",
       "settlement_percentage                         2227612\n",
       "settlement_term                               2227612\n",
       "emp_length_int                                      0\n",
       "emp_length_missing                                  0\n",
       "term_int                                            0\n",
       "earliest_cr_line_timestamp                         29\n",
       "months_since_earliest_cr_line                       0\n",
       "issue_d_timestamp                                   0\n",
       "months_since_issue_date                             0\n",
       "dtype: int64"
      ]
     },
     "execution_count": 27,
     "metadata": {},
     "output_type": "execute_result"
    }
   ],
   "source": [
    "# Using this we can get the number of missing values in each column.\n",
    "\n",
    "pd.options.display.max_rows = None\n",
    "loan_dataset.isnull().sum()"
   ]
  },
  {
   "cell_type": "markdown",
   "id": "ba8944f7-5bd3-4c23-b394-93529bdb1893",
   "metadata": {},
   "source": [
    "### **Several columns in our dataset have missing values, but we will only focus on the important columns like,**\n",
    "\n",
    "> total_rev_hi_lim\n",
    ">\n",
    ">annual_inc\n",
    ">\n",
    "> acc_now_delinq\n",
    ">\n",
    "> total_acc\n",
    ">\n",
    "> pub_rec\n",
    ">\n",
    "> open_acc\n",
    ">\n",
    "> inq_last_6mths\n",
    ">\n",
    "> delinq_2yrs\n",
    ">\n",
    "> 'installment'\n",
    "\n",
    "---\n",
    "\n",
    "- ### **total_rev_hi_lim**"
   ]
  },
  {
   "cell_type": "code",
   "execution_count": 28,
   "id": "0e23ff38-040b-41c9-a0d3-3b6e764a541f",
   "metadata": {},
   "outputs": [
    {
     "data": {
      "text/plain": [
       "np.int64(70276)"
      ]
     },
     "execution_count": 28,
     "metadata": {},
     "output_type": "execute_result"
    }
   ],
   "source": [
    "loan_dataset['total_rev_hi_lim'].isnull().sum() # A total of 70276 values are missing."
   ]
  },
  {
   "cell_type": "code",
   "execution_count": 29,
   "id": "673f266b-0f9a-4adc-9e70-6e134577041d",
   "metadata": {},
   "outputs": [
    {
     "data": {
      "text/plain": [
       "np.float64(32.55742738174407)"
      ]
     },
     "execution_count": 29,
     "metadata": {},
     "output_type": "execute_result"
    }
   ],
   "source": [
    "loan_dataset['total_rev_hi_lim'].skew() # Right-skewed (long tail on the right)"
   ]
  },
  {
   "cell_type": "code",
   "execution_count": 30,
   "id": "fd1e64dd-bdf6-45dd-8474-eb8bf59710ed",
   "metadata": {},
   "outputs": [
    {
     "data": {
      "image/png": "[encoded data removed]",
      "text/plain": [
       "<Figure size 640x480 with 1 Axes>"
      ]
     },
     "metadata": {},
     "output_type": "display_data"
    }
   ],
   "source": [
    "sns.histplot(loan_dataset['total_rev_hi_lim'], kde=True)\n",
    "plt.show()"
   ]
  },
  {
   "cell_type": "code",
   "execution_count": 31,
   "id": "fbcce1eb-8039-419a-bfba-e1a5bf65f1bd",
   "metadata": {},
   "outputs": [],
   "source": [
    "# Using median() to impute the missing values in 'total_rev_hi_lim', as the data is heavily right skewed.\n",
    "\n",
    "loan_dataset['total_rev_hi_lim'].fillna(loan_dataset['total_rev_hi_lim'].median(), inplace =  True) "
   ]
  },
  {
   "cell_type": "code",
   "execution_count": 32,
   "id": "06a387c1-f948-42d2-973e-6928b071466d",
   "metadata": {},
   "outputs": [
    {
     "data": {
      "text/plain": [
       "np.int64(0)"
      ]
     },
     "execution_count": 32,
     "metadata": {},
     "output_type": "execute_result"
    }
   ],
   "source": [
    "loan_dataset['total_rev_hi_lim'].isnull().sum() "
   ]
  },
  {
   "cell_type": "markdown",
   "id": "db716084-c064-4248-8d4a-3c3ede315d38",
   "metadata": {},
   "source": [
    "---\n",
    "\n",
    "- ### **annual_inc**"
   ]
  },
  {
   "cell_type": "code",
   "execution_count": 33,
   "id": "43a40527-9cc9-4b80-a046-440b3d073b18",
   "metadata": {},
   "outputs": [
    {
     "data": {
      "text/plain": [
       "np.int64(4)"
      ]
     },
     "execution_count": 33,
     "metadata": {},
     "output_type": "execute_result"
    }
   ],
   "source": [
    "loan_dataset['annual_inc'].isnull().sum() # Just 4 values are missing."
   ]
  },
  {
   "cell_type": "code",
   "execution_count": 34,
   "id": "45d7d31a-a0b4-420c-b91e-8e5e3b0edf77",
   "metadata": {},
   "outputs": [
    {
     "data": {
      "text/plain": [
       "np.float64(493.88608839994697)"
      ]
     },
     "execution_count": 34,
     "metadata": {},
     "output_type": "execute_result"
    }
   ],
   "source": [
    "loan_dataset['annual_inc'].skew() # Right-skewed (long tail on the right), so again using median."
   ]
  },
  {
   "cell_type": "code",
   "execution_count": 35,
   "id": "d4b5f8c2-2316-4967-9861-20ed6818815d",
   "metadata": {},
   "outputs": [
    {
     "data": {
      "text/plain": [
       "np.int64(0)"
      ]
     },
     "execution_count": 35,
     "metadata": {},
     "output_type": "execute_result"
    }
   ],
   "source": [
    "loan_dataset['annual_inc'].fillna(loan_dataset['annual_inc'].median(), inplace =  True)\n",
    "loan_dataset['annual_inc'].isnull().sum()"
   ]
  },
  {
   "cell_type": "code",
   "execution_count": 36,
   "id": "37bec83b-965e-4b22-8ed6-2ef1fc22ee86",
   "metadata": {},
   "outputs": [
    {
     "data": {
      "text/plain": [
       "(np.int64(29),\n",
       " np.int64(29),\n",
       " np.int64(30),\n",
       " np.int64(29),\n",
       " np.int64(29),\n",
       " np.int64(29),\n",
       " np.int64(29))"
      ]
     },
     "execution_count": 36,
     "metadata": {},
     "output_type": "execute_result"
    }
   ],
   "source": [
    "(loan_dataset['acc_now_delinq'].isnull().sum(), \n",
    "loan_dataset['pub_rec'].isnull().sum(), \n",
    "loan_dataset['inq_last_6mths'].isnull().sum(), \n",
    "loan_dataset['delinq_2yrs'].isnull().sum(), \n",
    "loan_dataset['total_acc'].isnull().sum(), \n",
    "loan_dataset['open_acc'].isnull().sum(), \n",
    "loan_dataset['earliest_cr_line'].isnull().sum())"
   ]
  },
  {
   "cell_type": "code",
   "execution_count": 37,
   "id": "99a93a63-2f9a-484e-93f6-e5de5d95c570",
   "metadata": {},
   "outputs": [
    {
     "name": "stdout",
     "output_type": "stream",
     "text": [
      "Index([2141934, 2141935, 2141944, 2141957, 2141965, 2141968, 2141979, 2141994,\n",
      "       2141999, 2142000, 2142001, 2142002, 2142003, 2142004, 2142005, 2142006,\n",
      "       2142007, 2142008, 2142009, 2142010, 2142011, 2142012, 2142013, 2142014,\n",
      "       2142015, 2142016, 2142017, 2142018, 2142019],\n",
      "      dtype='int64')\n"
     ]
    }
   ],
   "source": [
    "print(loan_dataset[loan_dataset['acc_now_delinq'].isnull()].index)"
   ]
  },
  {
   "cell_type": "code",
   "execution_count": 38,
   "id": "efdf9c3f-31b0-41be-95d3-fcb60fd60f34",
   "metadata": {},
   "outputs": [
    {
     "name": "stdout",
     "output_type": "stream",
     "text": [
      "Index([2141934, 2141935, 2141944, 2141957, 2141965, 2141968, 2141979, 2141994,\n",
      "       2141999, 2142000, 2142001, 2142002, 2142003, 2142004, 2142005, 2142006,\n",
      "       2142007, 2142008, 2142009, 2142010, 2142011, 2142012, 2142013, 2142014,\n",
      "       2142015, 2142016, 2142017, 2142018, 2142019],\n",
      "      dtype='int64')\n"
     ]
    }
   ],
   "source": [
    "print(loan_dataset[loan_dataset['pub_rec'].isnull()].index)"
   ]
  },
  {
   "cell_type": "code",
   "execution_count": 39,
   "id": "721372a3-1d12-4985-a0e5-8cc283dd4e9e",
   "metadata": {},
   "outputs": [
    {
     "name": "stdout",
     "output_type": "stream",
     "text": [
      "Index([ 808511, 2141934, 2141935, 2141944, 2141957, 2141965, 2141968, 2141979,\n",
      "       2141994, 2141999, 2142000, 2142001, 2142002, 2142003, 2142004, 2142005,\n",
      "       2142006, 2142007, 2142008, 2142009, 2142010, 2142011, 2142012, 2142013,\n",
      "       2142014, 2142015, 2142016, 2142017, 2142018, 2142019],\n",
      "      dtype='int64')\n"
     ]
    }
   ],
   "source": [
    "print(loan_dataset[loan_dataset['inq_last_6mths'].isnull()].index)"
   ]
  },
  {
   "cell_type": "code",
   "execution_count": 40,
   "id": "524ea878-0b62-40eb-944f-e12d3d3e7409",
   "metadata": {},
   "outputs": [
    {
     "name": "stdout",
     "output_type": "stream",
     "text": [
      "Index([2141934, 2141935, 2141944, 2141957, 2141965, 2141968, 2141979, 2141994,\n",
      "       2141999, 2142000, 2142001, 2142002, 2142003, 2142004, 2142005, 2142006,\n",
      "       2142007, 2142008, 2142009, 2142010, 2142011, 2142012, 2142013, 2142014,\n",
      "       2142015, 2142016, 2142017, 2142018, 2142019],\n",
      "      dtype='int64')\n"
     ]
    }
   ],
   "source": [
    "print(loan_dataset[loan_dataset['delinq_2yrs'].isnull()].index)"
   ]
  },
  {
   "cell_type": "code",
   "execution_count": 41,
   "id": "59e576c6-ead7-40e5-ab28-729f78a682af",
   "metadata": {},
   "outputs": [
    {
     "name": "stdout",
     "output_type": "stream",
     "text": [
      "Index([2141934, 2141935, 2141944, 2141957, 2141965, 2141968, 2141979, 2141994,\n",
      "       2141999, 2142000, 2142001, 2142002, 2142003, 2142004, 2142005, 2142006,\n",
      "       2142007, 2142008, 2142009, 2142010, 2142011, 2142012, 2142013, 2142014,\n",
      "       2142015, 2142016, 2142017, 2142018, 2142019],\n",
      "      dtype='int64')\n"
     ]
    }
   ],
   "source": [
    "print(loan_dataset[loan_dataset['total_acc'].isnull()].index)"
   ]
  },
  {
   "cell_type": "code",
   "execution_count": 42,
   "id": "dde71e06-f5c1-4456-938f-8c0fcf72536a",
   "metadata": {},
   "outputs": [
    {
     "name": "stdout",
     "output_type": "stream",
     "text": [
      "Index([2141934, 2141935, 2141944, 2141957, 2141965, 2141968, 2141979, 2141994,\n",
      "       2141999, 2142000, 2142001, 2142002, 2142003, 2142004, 2142005, 2142006,\n",
      "       2142007, 2142008, 2142009, 2142010, 2142011, 2142012, 2142013, 2142014,\n",
      "       2142015, 2142016, 2142017, 2142018, 2142019],\n",
      "      dtype='int64')\n"
     ]
    }
   ],
   "source": [
    "print(loan_dataset[loan_dataset['open_acc'].isnull()].index)"
   ]
  },
  {
   "cell_type": "code",
   "execution_count": 43,
   "id": "77b3226b-d47d-4891-b77d-e30c7593c86f",
   "metadata": {},
   "outputs": [
    {
     "name": "stdout",
     "output_type": "stream",
     "text": [
      "Index([2141934, 2141935, 2141944, 2141957, 2141965, 2141968, 2141979, 2141994,\n",
      "       2141999, 2142000, 2142001, 2142002, 2142003, 2142004, 2142005, 2142006,\n",
      "       2142007, 2142008, 2142009, 2142010, 2142011, 2142012, 2142013, 2142014,\n",
      "       2142015, 2142016, 2142017, 2142018, 2142019],\n",
      "      dtype='int64')\n"
     ]
    }
   ],
   "source": [
    "print(loan_dataset[loan_dataset['earliest_cr_line'].isna()].index)"
   ]
  },
  {
   "cell_type": "markdown",
   "id": "fe710635-cef1-4c92-8eab-63d20964f8e9",
   "metadata": {},
   "source": [
    "### 🔍 Explanation\n",
    "\n",
    "#### With the exception of one additional missing value for the variable **`inq_last_6mths`**, all other missing values correspond to the same 29 records. Since these missing values occur in the same rows, it is reasonable to infer that these customers likely had **no prior credit history**.\n",
    "\n",
    "Record **808511** has only **`inq_last_6mths`** missing, which could simply indicate **no inquiries in the last 6 months**. Hence, imputing zero is justifiable.\n",
    "\n",
    "---\n",
    "\n",
    "#### As such, we impute the following:\n",
    "\n",
    "- **`acc_now_delinq` = 0** → Current delinquencies on accounts. Missing likely implies **no delinquencies**.\n",
    "- **`pub_rec` = 0** → Number of derogatory public records. Missing likely means **no public records**.\n",
    "- **`inq_last_6mths` = 0 or left as missing** → Number of credit inquiries in the last 6 months. Missing likely implies **no recent inquiries**.\n",
    "- **`delinq_2yrs` = 0 or left as missing** → Delinquencies in the past 2 years. Missing likely means **none**.\n",
    "- **`open_acc` = 0** → No currently open accounts.\n",
    "- **`total_acc` = 0** → No total number of accounts.\n",
    "- **`earliest_cr_line` = 0 or left as missing** → Likely that **no credit line was ever established**.\n",
    "\n",
    "---\n",
    "\n",
    "This consistent missingness pattern justifies imputing **zero** for these variables for the identified 29 records.\n"
   ]
  },
  {
   "cell_type": "code",
   "execution_count": 44,
   "id": "00214a86-cbb2-4ae3-b63a-1c1b1203eb86",
   "metadata": {},
   "outputs": [],
   "source": [
    "# Relacing the missing values with zeroes.\n",
    "\n",
    "loan_dataset['delinq_2yrs'].fillna(0, inplace=True)\n",
    "loan_dataset['inq_last_6mths'].fillna(0, inplace=True)\n",
    "loan_dataset['pub_rec'].fillna(0, inplace=True)\n",
    "loan_dataset['acc_now_delinq'].fillna(0, inplace=True)\n",
    "loan_dataset['total_acc'].fillna(0, inplace=True)\n",
    "loan_dataset['open_acc'].fillna(0, inplace=True)\n",
    "\n",
    "# 'earliest_cr_line' was set to zero before."
   ]
  },
  {
   "cell_type": "code",
   "execution_count": 45,
   "id": "435be7da-b9b8-4428-a104-171dad28fd1e",
   "metadata": {},
   "outputs": [
    {
     "data": {
      "text/plain": [
       "np.int64(0)"
      ]
     },
     "execution_count": 45,
     "metadata": {},
     "output_type": "execute_result"
    }
   ],
   "source": [
    "# 'installment' doesn't have any missing values()\n",
    "\n",
    "loan_dataset['installment'].isnull().sum()"
   ]
  },
  {
   "cell_type": "markdown",
   "id": "2ce4f6ad-31ac-4e9e-adf5-31eced39ee14",
   "metadata": {},
   "source": [
    "---\n",
    "### To use logistic regression, we need to define a \"default\" class, especially in binary classification problems like credit risk modeling, where we’re predicting whether a borrower defaults (0) or does not default (1). **A common default definition states that a borrower has defaulted if they are 30 or more days past the due date.**\n",
    "\n",
    "### Note: In our dataset, the variable **loan_status** can be used to create the target variable for our logistic regression model, indicating whether a borrower defaulted (0) or did not default (1)."
   ]
  },
  {
   "cell_type": "code",
   "execution_count": 46,
   "id": "21cf8945-4ca6-4ec7-8965-3d0150bb5267",
   "metadata": {},
   "outputs": [
    {
     "data": {
      "text/plain": [
       "(9,\n",
       " array(['Current', 'Fully Paid', 'Late (31-120 days)', 'In Grace Period',\n",
       "        'Charged Off', 'Late (16-30 days)', 'Default',\n",
       "        'Does not meet the credit policy. Status:Fully Paid',\n",
       "        'Does not meet the credit policy. Status:Charged Off'],\n",
       "       dtype=object))"
      ]
     },
     "execution_count": 46,
     "metadata": {},
     "output_type": "execute_result"
    }
   ],
   "source": [
    "len(loan_dataset['loan_status'].unique()), loan_dataset['loan_status'].unique()"
   ]
  },
  {
   "cell_type": "markdown",
   "id": "59bd2cec-da6a-4aa1-8ce5-b4a86236aec9",
   "metadata": {},
   "source": [
    "## Aforementioned terms can be interpreted as\n",
    "\n",
    "- Fully paid: No default (1)\n",
    "- Current: No default (1)\n",
    "- In Grace Period: No default (1)\n",
    "- Late (16-30 days): No default (1)\n",
    "- Does not meet the credit policy. Status:Fully Paid: No default (1)\n",
    "  \n",
    "- Charged Off: Default (0)\n",
    "- Default: Default (0)\n",
    "- Late (31-120 days): Default (0)\n",
    "- Does not meet the credit policy. Status:Charged Off: Default (0)"
   ]
  },
  {
   "cell_type": "code",
   "execution_count": 47,
   "id": "83530f6c-df68-4c14-8528-efe3e27438be",
   "metadata": {},
   "outputs": [
    {
     "data": {
      "text/plain": [
       "loan_status\n",
       "Fully Paid                                             1041952\n",
       "Current                                                 919695\n",
       "Charged Off                                             261655\n",
       "Late (31-120 days)                                       21897\n",
       "In Grace Period                                           8952\n",
       "Late (16-30 days)                                         3737\n",
       "Does not meet the credit policy. Status:Fully Paid        1988\n",
       "Does not meet the credit policy. Status:Charged Off        761\n",
       "Default                                                     31\n",
       "Name: count, dtype: int64"
      ]
     },
     "execution_count": 47,
     "metadata": {},
     "output_type": "execute_result"
    }
   ],
   "source": [
    "loan_dataset['loan_status'].value_counts()"
   ]
  },
  {
   "cell_type": "code",
   "execution_count": 48,
   "id": "629f6fb1-7f8a-4565-877e-39cf3d7a2c8d",
   "metadata": {},
   "outputs": [
    {
     "data": {
      "text/plain": [
       "loan_status\n",
       "Fully Paid                                             0.460904\n",
       "Current                                                0.406824\n",
       "Charged Off                                            0.115742\n",
       "Late (31-120 days)                                     0.009686\n",
       "In Grace Period                                        0.003960\n",
       "Late (16-30 days)                                      0.001653\n",
       "Does not meet the credit policy. Status:Fully Paid     0.000879\n",
       "Does not meet the credit policy. Status:Charged Off    0.000337\n",
       "Default                                                0.000014\n",
       "Name: count, dtype: float64"
      ]
     },
     "execution_count": 48,
     "metadata": {},
     "output_type": "execute_result"
    }
   ],
   "source": [
    "# Getting the proportion of each category w.r.t total records\n",
    "\n",
    "loan_dataset['loan_status'].value_counts() / loan_dataset['loan_status'].count() "
   ]
  },
  {
   "cell_type": "code",
   "execution_count": 49,
   "id": "bf2bcba9-4c7f-4d4f-9d2e-1cec05c0ff15",
   "metadata": {},
   "outputs": [
    {
     "data": {
      "text/plain": [
       "87.2025"
      ]
     },
     "execution_count": 49,
     "metadata": {},
     "output_type": "execute_result"
    }
   ],
   "source": [
    "(0.460904 + 0.406824 + 0.003960 + 0.000337)*100"
   ]
  },
  {
   "cell_type": "markdown",
   "id": "acea1a0f-b17e-4c28-b791-84eea2e84208",
   "metadata": {},
   "source": [
    "### apprx 87.2% of the total loans are paid on time.\n",
    "> Fully Paid (0.460904)\n",
    "> \n",
    "> Current (0.406824)\n",
    "> \n",
    "> In Grace Period (0.003960)\n",
    "> \n",
    ">  Does not meet the credit policy. Status:Fully Paid (0.000337)"
   ]
  },
  {
   "cell_type": "code",
   "execution_count": 50,
   "id": "7296d550-9259-4f36-913a-5c6a62634cc1",
   "metadata": {},
   "outputs": [],
   "source": [
    "loan_dataset['good_bad'] = np.where(loan_dataset['loan_status'].isin(['Charged Off',\n",
    "                                                                      'Default',\n",
    "                                                                      'Late (31-120 days)',\n",
    "                                                                      'Does not meet the credit policy. Status:Charged Off']), 0, 1)"
   ]
  },
  {
   "cell_type": "code",
   "execution_count": 51,
   "id": "878fd307-457c-4d78-b531-29086046ce42",
   "metadata": {},
   "outputs": [
    {
     "data": {
      "text/plain": [
       "good_bad\n",
       "1    1976324\n",
       "0     284344\n",
       "Name: count, dtype: int64"
      ]
     },
     "execution_count": 51,
     "metadata": {},
     "output_type": "execute_result"
    }
   ],
   "source": [
    "loan_dataset['good_bad'].value_counts() # 21897 + 261655 + 761 + 31 = 284344"
   ]
  },
  {
   "cell_type": "markdown",
   "id": "b93cf260-0508-4452-9eb9-edd42d992be5",
   "metadata": {},
   "source": [
    "### **Splitting the data into training and testing datasets**"
   ]
  },
  {
   "cell_type": "code",
   "execution_count": 52,
   "id": "23e6ef96-d075-42ff-b481-4512a5b965bf",
   "metadata": {
    "scrolled": true
   },
   "outputs": [],
   "source": [
    "train_input, test_input, train_output, test_output = train_test_split(loan_dataset.drop('good_bad', axis=1), \n",
    "                                                                        loan_dataset['good_bad'],\n",
    "                                                                        test_size=0.2,            # e.g., 20% for testing\n",
    "                                                                        random_state=42,          # ensures reproducibility\n",
    "                                                                        stratify=loan_dataset['good_bad']  # optional: for imbalanced classes\n",
    "                                                                    )"
   ]
  },
  {
   "cell_type": "code",
   "execution_count": 53,
   "id": "a41d8cc9-a7d9-4d06-a3eb-00555e0ced62",
   "metadata": {},
   "outputs": [
    {
     "data": {
      "text/plain": [
       "((1808534, 147), (1808534,))"
      ]
     },
     "execution_count": 53,
     "metadata": {},
     "output_type": "execute_result"
    }
   ],
   "source": [
    "train_input.shape, train_output.shape"
   ]
  },
  {
   "cell_type": "code",
   "execution_count": 54,
   "id": "4efff357-7b1a-4418-86d6-53927afbf4a4",
   "metadata": {},
   "outputs": [
    {
     "data": {
      "text/plain": [
       "((452134, 147), (452134,))"
      ]
     },
     "execution_count": 54,
     "metadata": {},
     "output_type": "execute_result"
    }
   ],
   "source": [
    "test_input.shape, test_output.shape"
   ]
  },
  {
   "cell_type": "markdown",
   "id": "441cd421-1038-4e11-9c72-b5418781f2b4",
   "metadata": {},
   "source": [
    "### **Note:**\n",
    "\n",
    "We split the dataset into training and testing sets at this stage to save resources and simplify processing. Since we only need the labels from the test data for final model evaluation, there is no need to perform preprocessing (like encoding or imputing) on the test set until the model is ready.\n",
    "\n",
    "> This avoids unnecessary computation and helps focus preprocessing efforts only on the training data, which the model learns from.\n",
    "\n"
   ]
  },
  {
   "cell_type": "code",
   "execution_count": 55,
   "id": "57199824-44a3-46ac-8fc6-cba6385d8054",
   "metadata": {},
   "outputs": [],
   "source": [
    "# To save the current version of our dataset.\n",
    "\n",
    "train_input.to_csv('dataset/train_input.csv', index=False) \n",
    "test_input.to_csv('dataset/test_input.csv', index=False) \n",
    "train_output.to_csv('dataset/train_output.csv', index=False) \n",
    "test_output.to_csv('dataset/test_output.csv', index=False) "
   ]
  },
  {
   "cell_type": "code",
   "execution_count": null,
   "id": "6f68fe81-eaf3-4a93-a8e0-f1962030701c",
   "metadata": {},
   "outputs": [],
   "source": []
  },
  {
   "cell_type": "code",
   "execution_count": null,
   "id": "3fc85ae9-5905-47af-8ac1-89e99f108cd9",
   "metadata": {},
   "outputs": [],
   "source": []
  }
 ],
 "metadata": {
  "kernelspec": {
   "display_name": "Python 3 (ipykernel)",
   "language": "python",
   "name": "python3"
  },
  "language_info": {
   "codemirror_mode": {
    "name": "ipython",
    "version": 3
   },
   "file_extension": ".py",
   "mimetype": "text/x-python",
   "name": "python",
   "nbconvert_exporter": "python",
   "pygments_lexer": "ipython3",
   "version": "3.11.13"
  }
 },
 "nbformat": 4,
 "nbformat_minor": 5
}
